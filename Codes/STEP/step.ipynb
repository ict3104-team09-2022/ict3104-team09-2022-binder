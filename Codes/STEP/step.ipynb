{
 "cells": [
  {
   "cell_type": "markdown",
   "metadata": {},
   "source": [
    "**Step Model**\n",
    "\n",
    "Environment \n",
    "Python 3.6.8\n"
   ]
  },
  {
   "cell_type": "markdown",
   "metadata": {},
   "source": [
    "**Step Imports**"
   ]
  },
  {
   "cell_type": "code",
   "execution_count": 1,
   "metadata": {},
   "outputs": [
    {
     "name": "stdout",
     "output_type": "stream",
     "text": [
      "Requirement already satisfied: numpy in c:\\users\\user\\appdata\\local\\programs\\python\\python36\\lib\\site-packages (1.19.5)\n",
      "Requirement already satisfied: opencv-python in c:\\users\\user\\appdata\\local\\programs\\python\\python36\\lib\\site-packages (4.6.0.66)\n",
      "Looking in indexes: https://pypi.org/simple, https://download.pytorch.org/whl/lts/1.8/cu111\n",
      "Requirement already satisfied: torch==1.8.2 in c:\\users\\user\\appdata\\local\\programs\\python\\python36\\lib\\site-packages (1.8.2+cu111)\n",
      "Requirement already satisfied: torchvision==0.9.2 in c:\\users\\user\\appdata\\local\\programs\\python\\python36\\lib\\site-packages (0.9.2+cu111)\n",
      "Requirement already satisfied: torchaudio===0.8.2 in c:\\users\\user\\appdata\\local\\programs\\python\\python36\\lib\\site-packages (0.8.2)\n",
      "Requirement already satisfied: numpy in c:\\users\\user\\appdata\\local\\programs\\python\\python36\\lib\\site-packages (from torch==1.8.2) (1.19.5)\n",
      "Requirement already satisfied: typing-extensions in c:\\users\\user\\appdata\\local\\programs\\python\\python36\\lib\\site-packages (from torch==1.8.2) (4.1.1)\n",
      "Requirement already satisfied: dataclasses in c:\\users\\user\\appdata\\local\\programs\\python\\python36\\lib\\site-packages (from torch==1.8.2) (0.8)\n",
      "Requirement already satisfied: pillow>=4.1.1 in c:\\users\\user\\appdata\\local\\programs\\python\\python36\\lib\\site-packages (from torchvision==0.9.2) (8.4.0)\n",
      "Requirement already satisfied: ipywidgets in c:\\users\\user\\appdata\\local\\programs\\python\\python36\\lib\\site-packages (7.7.2)\n",
      "Requirement already satisfied: traitlets>=4.3.1 in c:\\users\\user\\appdata\\roaming\\python\\python36\\site-packages (from ipywidgets) (4.3.3)\n",
      "Requirement already satisfied: ipython-genutils~=0.2.0 in c:\\users\\user\\appdata\\roaming\\python\\python36\\site-packages (from ipywidgets) (0.2.0)\n",
      "Requirement already satisfied: jupyterlab-widgets<3,>=1.0.0 in c:\\users\\user\\appdata\\local\\programs\\python\\python36\\lib\\site-packages (from ipywidgets) (1.1.1)\n",
      "Requirement already satisfied: ipykernel>=4.5.1 in c:\\users\\user\\appdata\\roaming\\python\\python36\\site-packages (from ipywidgets) (5.5.6)\n",
      "Requirement already satisfied: ipython>=4.0.0 in c:\\users\\user\\appdata\\roaming\\python\\python36\\site-packages (from ipywidgets) (7.16.3)\n",
      "Requirement already satisfied: widgetsnbextension~=3.6.0 in c:\\users\\user\\appdata\\local\\programs\\python\\python36\\lib\\site-packages (from ipywidgets) (3.6.1)\n",
      "Requirement already satisfied: jupyter-client in c:\\users\\user\\appdata\\roaming\\python\\python36\\site-packages (from ipykernel>=4.5.1->ipywidgets) (7.1.2)\n",
      "Requirement already satisfied: tornado>=4.2 in c:\\users\\user\\appdata\\roaming\\python\\python36\\site-packages (from ipykernel>=4.5.1->ipywidgets) (6.1)\n",
      "Requirement already satisfied: pygments in c:\\users\\user\\appdata\\roaming\\python\\python36\\site-packages (from ipython>=4.0.0->ipywidgets) (2.13.0)\n",
      "Requirement already satisfied: decorator in c:\\users\\user\\appdata\\roaming\\python\\python36\\site-packages (from ipython>=4.0.0->ipywidgets) (5.1.1)\n",
      "Requirement already satisfied: colorama in c:\\users\\user\\appdata\\roaming\\python\\python36\\site-packages (from ipython>=4.0.0->ipywidgets) (0.4.5)\n",
      "Requirement already satisfied: backcall in c:\\users\\user\\appdata\\roaming\\python\\python36\\site-packages (from ipython>=4.0.0->ipywidgets) (0.2.0)\n",
      "Requirement already satisfied: setuptools>=18.5 in c:\\users\\user\\appdata\\local\\programs\\python\\python36\\lib\\site-packages (from ipython>=4.0.0->ipywidgets) (40.6.2)\n",
      "Requirement already satisfied: pickleshare in c:\\users\\user\\appdata\\roaming\\python\\python36\\site-packages (from ipython>=4.0.0->ipywidgets) (0.7.5)\n",
      "Requirement already satisfied: jedi<=0.17.2,>=0.10 in c:\\users\\user\\appdata\\roaming\\python\\python36\\site-packages (from ipython>=4.0.0->ipywidgets) (0.17.2)\n",
      "Requirement already satisfied: prompt-toolkit!=3.0.0,!=3.0.1,<3.1.0,>=2.0.0 in c:\\users\\user\\appdata\\roaming\\python\\python36\\site-packages (from ipython>=4.0.0->ipywidgets) (3.0.31)\n",
      "Requirement already satisfied: six in c:\\users\\user\\appdata\\roaming\\python\\python36\\site-packages (from traitlets>=4.3.1->ipywidgets) (1.16.0)\n",
      "Requirement already satisfied: notebook>=4.4.1 in c:\\users\\user\\appdata\\local\\programs\\python\\python36\\lib\\site-packages (from widgetsnbextension~=3.6.0->ipywidgets) (6.4.10)\n",
      "Requirement already satisfied: parso<0.8.0,>=0.7.0 in c:\\users\\user\\appdata\\roaming\\python\\python36\\site-packages (from jedi<=0.17.2,>=0.10->ipython>=4.0.0->ipywidgets) (0.7.1)\n",
      "Requirement already satisfied: terminado>=0.8.3 in c:\\users\\user\\appdata\\local\\programs\\python\\python36\\lib\\site-packages (from notebook>=4.4.1->widgetsnbextension~=3.6.0->ipywidgets) (0.12.1)\n",
      "Requirement already satisfied: prometheus-client in c:\\users\\user\\appdata\\local\\programs\\python\\python36\\lib\\site-packages (from notebook>=4.4.1->widgetsnbextension~=3.6.0->ipywidgets) (0.15.0)\n",
      "Requirement already satisfied: argon2-cffi in c:\\users\\user\\appdata\\local\\programs\\python\\python36\\lib\\site-packages (from notebook>=4.4.1->widgetsnbextension~=3.6.0->ipywidgets) (21.3.0)\n",
      "Requirement already satisfied: jinja2 in c:\\users\\user\\appdata\\local\\programs\\python\\python36\\lib\\site-packages (from notebook>=4.4.1->widgetsnbextension~=3.6.0->ipywidgets) (3.0.3)\n",
      "Requirement already satisfied: jupyter-core>=4.6.1 in c:\\users\\user\\appdata\\roaming\\python\\python36\\site-packages (from notebook>=4.4.1->widgetsnbextension~=3.6.0->ipywidgets) (4.9.2)\n",
      "Requirement already satisfied: nbconvert>=5 in c:\\users\\user\\appdata\\local\\programs\\python\\python36\\lib\\site-packages (from notebook>=4.4.1->widgetsnbextension~=3.6.0->ipywidgets) (6.0.7)\n",
      "Requirement already satisfied: pyzmq>=17 in c:\\users\\user\\appdata\\roaming\\python\\python36\\site-packages (from notebook>=4.4.1->widgetsnbextension~=3.6.0->ipywidgets) (24.0.1)\n",
      "Requirement already satisfied: nbformat in c:\\users\\user\\appdata\\local\\programs\\python\\python36\\lib\\site-packages (from notebook>=4.4.1->widgetsnbextension~=3.6.0->ipywidgets) (5.1.3)\n",
      "Requirement already satisfied: nest-asyncio>=1.5 in c:\\users\\user\\appdata\\roaming\\python\\python36\\site-packages (from notebook>=4.4.1->widgetsnbextension~=3.6.0->ipywidgets) (1.5.6)\n",
      "Requirement already satisfied: Send2Trash>=1.8.0 in c:\\users\\user\\appdata\\local\\programs\\python\\python36\\lib\\site-packages (from notebook>=4.4.1->widgetsnbextension~=3.6.0->ipywidgets) (1.8.0)\n",
      "Requirement already satisfied: entrypoints in c:\\users\\user\\appdata\\roaming\\python\\python36\\site-packages (from jupyter-client->ipykernel>=4.5.1->ipywidgets) (0.4)\n",
      "Requirement already satisfied: python-dateutil>=2.1 in c:\\users\\user\\appdata\\roaming\\python\\python36\\site-packages (from jupyter-client->ipykernel>=4.5.1->ipywidgets) (2.8.2)\n",
      "Requirement already satisfied: wcwidth in c:\\users\\user\\appdata\\roaming\\python\\python36\\site-packages (from prompt-toolkit!=3.0.0,!=3.0.1,<3.1.0,>=2.0.0->ipython>=4.0.0->ipywidgets) (0.2.5)\n",
      "Requirement already satisfied: pywin32>=1.0 in c:\\users\\user\\appdata\\roaming\\python\\python36\\site-packages (from jupyter-core>=4.6.1->notebook>=4.4.1->widgetsnbextension~=3.6.0->ipywidgets) (304)\n",
      "Requirement already satisfied: pandocfilters>=1.4.1 in c:\\users\\user\\appdata\\local\\programs\\python\\python36\\lib\\site-packages (from nbconvert>=5->notebook>=4.4.1->widgetsnbextension~=3.6.0->ipywidgets) (1.5.0)\n",
      "Requirement already satisfied: defusedxml in c:\\users\\user\\appdata\\local\\programs\\python\\python36\\lib\\site-packages (from nbconvert>=5->notebook>=4.4.1->widgetsnbextension~=3.6.0->ipywidgets) (0.7.1)\n",
      "Requirement already satisfied: nbclient<0.6.0,>=0.5.0 in c:\\users\\user\\appdata\\local\\programs\\python\\python36\\lib\\site-packages (from nbconvert>=5->notebook>=4.4.1->widgetsnbextension~=3.6.0->ipywidgets) (0.5.9)\n",
      "Requirement already satisfied: testpath in c:\\users\\user\\appdata\\local\\programs\\python\\python36\\lib\\site-packages (from nbconvert>=5->notebook>=4.4.1->widgetsnbextension~=3.6.0->ipywidgets) (0.6.0)\n",
      "Requirement already satisfied: jupyterlab-pygments in c:\\users\\user\\appdata\\local\\programs\\python\\python36\\lib\\site-packages (from nbconvert>=5->notebook>=4.4.1->widgetsnbextension~=3.6.0->ipywidgets) (0.1.2)\n",
      "Requirement already satisfied: mistune<2,>=0.8.1 in c:\\users\\user\\appdata\\local\\programs\\python\\python36\\lib\\site-packages (from nbconvert>=5->notebook>=4.4.1->widgetsnbextension~=3.6.0->ipywidgets) (0.8.4)\n",
      "Requirement already satisfied: bleach in c:\\users\\user\\appdata\\local\\programs\\python\\python36\\lib\\site-packages (from nbconvert>=5->notebook>=4.4.1->widgetsnbextension~=3.6.0->ipywidgets) (4.1.0)\n",
      "Requirement already satisfied: MarkupSafe>=2.0 in c:\\users\\user\\appdata\\local\\programs\\python\\python36\\lib\\site-packages (from jinja2->notebook>=4.4.1->widgetsnbextension~=3.6.0->ipywidgets) (2.0.1)\n",
      "Requirement already satisfied: jsonschema!=2.5.0,>=2.4 in c:\\users\\user\\appdata\\local\\programs\\python\\python36\\lib\\site-packages (from nbformat->notebook>=4.4.1->widgetsnbextension~=3.6.0->ipywidgets) (3.2.0)\n",
      "Requirement already satisfied: pywinpty>=1.1.0 in c:\\users\\user\\appdata\\local\\programs\\python\\python36\\lib\\site-packages (from terminado>=0.8.3->notebook>=4.4.1->widgetsnbextension~=3.6.0->ipywidgets) (1.1.6)\n",
      "Requirement already satisfied: dataclasses in c:\\users\\user\\appdata\\local\\programs\\python\\python36\\lib\\site-packages (from argon2-cffi->notebook>=4.4.1->widgetsnbextension~=3.6.0->ipywidgets) (0.8)\n",
      "Requirement already satisfied: typing-extensions in c:\\users\\user\\appdata\\local\\programs\\python\\python36\\lib\\site-packages (from argon2-cffi->notebook>=4.4.1->widgetsnbextension~=3.6.0->ipywidgets) (4.1.1)\n",
      "Requirement already satisfied: argon2-cffi-bindings in c:\\users\\user\\appdata\\local\\programs\\python\\python36\\lib\\site-packages (from argon2-cffi->notebook>=4.4.1->widgetsnbextension~=3.6.0->ipywidgets) (21.2.0)\n",
      "Requirement already satisfied: pyrsistent>=0.14.0 in c:\\users\\user\\appdata\\local\\programs\\python\\python36\\lib\\site-packages (from jsonschema!=2.5.0,>=2.4->nbformat->notebook>=4.4.1->widgetsnbextension~=3.6.0->ipywidgets) (0.18.0)\n",
      "Requirement already satisfied: attrs>=17.4.0 in c:\\users\\user\\appdata\\local\\programs\\python\\python36\\lib\\site-packages (from jsonschema!=2.5.0,>=2.4->nbformat->notebook>=4.4.1->widgetsnbextension~=3.6.0->ipywidgets) (22.1.0)\n",
      "Requirement already satisfied: importlib-metadata in c:\\users\\user\\appdata\\local\\programs\\python\\python36\\lib\\site-packages (from jsonschema!=2.5.0,>=2.4->nbformat->notebook>=4.4.1->widgetsnbextension~=3.6.0->ipywidgets) (4.8.3)\n",
      "Requirement already satisfied: async-generator in c:\\users\\user\\appdata\\local\\programs\\python\\python36\\lib\\site-packages (from nbclient<0.6.0,>=0.5.0->nbconvert>=5->notebook>=4.4.1->widgetsnbextension~=3.6.0->ipywidgets) (1.10)\n",
      "Requirement already satisfied: cffi>=1.0.1 in c:\\users\\user\\appdata\\local\\programs\\python\\python36\\lib\\site-packages (from argon2-cffi-bindings->argon2-cffi->notebook>=4.4.1->widgetsnbextension~=3.6.0->ipywidgets) (1.15.1)\n",
      "Requirement already satisfied: webencodings in c:\\users\\user\\appdata\\local\\programs\\python\\python36\\lib\\site-packages (from bleach->nbconvert>=5->notebook>=4.4.1->widgetsnbextension~=3.6.0->ipywidgets) (0.5.1)\n",
      "Requirement already satisfied: packaging in c:\\users\\user\\appdata\\local\\programs\\python\\python36\\lib\\site-packages (from bleach->nbconvert>=5->notebook>=4.4.1->widgetsnbextension~=3.6.0->ipywidgets) (21.3)\n",
      "Requirement already satisfied: pycparser in c:\\users\\user\\appdata\\local\\programs\\python\\python36\\lib\\site-packages (from cffi>=1.0.1->argon2-cffi-bindings->argon2-cffi->notebook>=4.4.1->widgetsnbextension~=3.6.0->ipywidgets) (2.21)\n",
      "Requirement already satisfied: zipp>=0.5 in c:\\users\\user\\appdata\\local\\programs\\python\\python36\\lib\\site-packages (from importlib-metadata->jsonschema!=2.5.0,>=2.4->nbformat->notebook>=4.4.1->widgetsnbextension~=3.6.0->ipywidgets) (3.6.0)\n",
      "Requirement already satisfied: pyparsing!=3.0.5,>=2.0.2 in c:\\users\\user\\appdata\\local\\programs\\python\\python36\\lib\\site-packages (from packaging->bleach->nbconvert>=5->notebook>=4.4.1->widgetsnbextension~=3.6.0->ipywidgets) (3.0.9)\n"
     ]
    }
   ],
   "source": [
    "!{sys.executable} -m pip install numpy opencv-python\n",
    "!{sys.executable} -m pip install torch==1.8.2 torchvision==0.9.2 torchaudio===0.8.2 --extra-index-url https://download.pytorch.org/whl/lts/1.8/cu111\n",
    "!{sys.executable} -m pip install ipywidgets\n",
    "from pydoc import describe\n",
    "from colorama import Style\n",
    "from ipyfilechooser import FileChooser\n",
    "import os\n",
    "import ipywidgets as widgets\n",
    "from IPython.display import HTML\n",
    "import cv2\n",
    "import numpy as np\n",
    "import glob\n",
    "\n"
   ]
  },
  {
   "cell_type": "markdown",
   "metadata": {},
   "source": [
    "**Step Inference**\n"
   ]
  },
  {
   "cell_type": "code",
   "execution_count": 2,
   "metadata": {
    "tags": []
   },
   "outputs": [
    {
     "data": {
      "application/vnd.jupyter.widget-view+json": {
       "model_id": "a7251baf4d9c410e8945ee8f79b7e438",
       "version_major": 2,
       "version_minor": 0
      },
      "text/plain": [
       "VBox(children=(FileChooser(path='c:\\Users\\user\\Documents\\GitHub\\STEP3\\pretrained', filename='', title='Select …"
      ]
     },
     "metadata": {},
     "output_type": "display_data"
    }
   ],
   "source": [
    "# Step Inference\n",
    "preTrainedModelPicker = FileChooser(os.getcwd())\n",
    "preTrainedModelPicker.filter_pattern = \"*.pth\"\n",
    "preTrainedModelPicker.title = \"Select pre-trained model\"\n",
    "preTrainedModelPicker.default_path = os.path.join(os.getcwd(),\"pretrained\")\n",
    "\n",
    "\n",
    "fcSelectFrameFolder = FileChooser(os.getcwd())\n",
    "fcSelectFrameFolder.show_only_dirs = True\n",
    "fcSelectFrameFolder.title = \"Select video frame folder to run inference on:\"\n",
    "fcSelectFrameFolder.default_path = os.path.join(os.getcwd(),'datasets/demo/frames')\n",
    "fcSelectFrameResultFolder = FileChooser(os.getcwd())\n",
    "fcSelectFrameResultFolder.show_only_dirs = True\n",
    "fcSelectFrameResultFolder.title = \"Select folder to save inference results to:\"\n",
    "fcSelectFrameResultFolder.default_path = os.path.join(os.getcwd(),'datasets/demo/results')\n",
    "selectVideoFrameFolder = widgets.HBox([widgets.Label(\"Save inference result to:\"),fcSelectFrameFolder])\n",
    "confirmBtn2 = widgets.Button(description=\"Confirm\")\n",
    "resetBtn2 = widgets.Button(description=\"Reset\")\n",
    "buttonsHbox2 = widgets.HBox([confirmBtn2,resetBtn2])\n",
    "inferrenceOutput = widgets.Output()\n",
    "vbox2 = widgets.VBox([preTrainedModelPicker,fcSelectFrameFolder, fcSelectFrameResultFolder,buttonsHbox2, inferrenceOutput])\n",
    "def on_confirm_clicked2(b):\n",
    "    with inferrenceOutput:\n",
    "        print(\"Running inference with pre-trained model: \", os.path.normpath( preTrainedModelPicker.selected))\n",
    "        print(\"Running inference on video frame folder: \", fcSelectFrameFolder.selected_path)\n",
    "        print(\"Saving results to: \", fcSelectFrameResultFolder.selected_path)\n",
    "        %run demo.py {os.path.join(fcSelectFrameFolder.selected_path,fcSelectFrameFolder.selected_filename)} {os.path.join(fcSelectFrameResultFolder.selected_path,fcSelectFrameResultFolder.selected_filename)} {os.path.normpath( preTrainedModelPicker.selected)}\n",
    "def on_reset_clicked2(b):\n",
    "    inferrenceOutput.clear_output()\n",
    "    fcSelectFrameFolder.reset()\n",
    "    fcSelectFrameResultFolder.reset()\n",
    "confirmBtn2.on_click(on_confirm_clicked2)\n",
    "resetBtn2.on_click(on_reset_clicked2)\n",
    "display(vbox2)"
   ]
  },
  {
   "cell_type": "markdown",
   "metadata": {},
   "source": [
    "**Step Frames Extraction**"
   ]
  },
  {
   "cell_type": "code",
   "execution_count": 3,
   "metadata": {},
   "outputs": [
    {
     "data": {
      "application/vnd.jupyter.widget-view+json": {
       "model_id": "7e47f529d7ab4b72b1b5d4ef19df1f45",
       "version_major": 2,
       "version_minor": 0
      },
      "text/plain": [
       "VBox(children=(FileChooser(path='c:\\Users\\user\\Documents\\GitHub\\STEP3\\datasets\\input', filename='', title='Sel…"
      ]
     },
     "metadata": {},
     "output_type": "display_data"
    }
   ],
   "source": [
    "\n",
    "fcSelectVideo = FileChooser(os.getcwd())\n",
    "fcSelectVideo.title = \"Select video folder to run frame extraction on:\"\n",
    "fcSelectVideo.default_path = os.path.join(os.getcwd(),'datasets/input/')\n",
    "fcResults = FileChooser(os.getcwd())\n",
    "fcResults.show_only_dirs = True\n",
    "fcResults.title = \"Select folder to save frame extraction results to:\"\n",
    "fcResults.default_path = os.path.join(os.getcwd(),'datasets/ava/')\n",
    "\n",
    "\n",
    "confirmBtn = widgets.Button(description=\"Confirm\")\n",
    "resetBtn = widgets.Button(description=\"Reset\")\n",
    "buttonsHbox = widgets.HBox([confirmBtn,resetBtn])\n",
    "\n",
    "\n",
    "output = widgets.Output()\n",
    "vbox = widgets.VBox([fcSelectVideo,fcResults,buttonsHbox, output])\n",
    "def on_confirm_clicked(b):\n",
    "    with output:\n",
    "        print(\"Running inference on video : \", os.path.join(fcSelectVideo.selected_path,fcSelectVideo.selected_filename))\n",
    "        print(\"Saving results to: \", fcResults.selected_path)\n",
    "        %run ./scripts/extract_clips2.py {os.path.join(fcSelectVideo.selected_path,fcSelectVideo.selected_filename)} {os.path.join(fcResults.selected_path,fcResults.selected_filename)}\n",
    "        # %run ./scripts/extract_clips.py \n",
    "def on_reset_clicked(b):\n",
    "    output.clear_output()\n",
    "    fcSelectVideo.reset()\n",
    "    fcResults.reset()\n",
    "confirmBtn.on_click(on_confirm_clicked)\n",
    "resetBtn.on_click(on_reset_clicked)\n",
    "\n",
    "\n",
    "\n",
    "\n",
    "display(vbox)\n",
    "\n"
   ]
  },
  {
   "cell_type": "markdown",
   "metadata": {},
   "source": [
    "**Step Training(Generate Label)**"
   ]
  },
  {
   "cell_type": "code",
   "execution_count": 4,
   "metadata": {},
   "outputs": [
    {
     "data": {
      "application/vnd.jupyter.widget-view+json": {
       "model_id": "1ba7d9aef8324cbbaa97c8b856e7b496",
       "version_major": 2,
       "version_minor": 0
      },
      "text/plain": [
       "VBox(children=(FileChooser(path='c:\\Users\\user\\Documents\\GitHub\\STEP3\\datasets\\ava\\label', filename='', title=…"
      ]
     },
     "metadata": {},
     "output_type": "display_data"
    }
   ],
   "source": [
    "# Step training generating label\n",
    "trainingCsv = FileChooser(os.getcwd())\n",
    "trainingCsv.filter_pattern = \"*.csv\"\n",
    "trainingCsv.title = \"Select training CSV file\"\n",
    "trainingCsv.default_path = os.path.join(os.getcwd(),\"datasets/ava/label/\")\n",
    "valuationCsv = FileChooser(os.getcwd())\n",
    "valuationCsv.filter_pattern = \"*.csv\"\n",
    "valuationCsv.title = \"Select valuation CSV file\"\n",
    "valuationCsv.default_path = os.path.join(os.getcwd(),\"datasets/ava/label/\")\n",
    "trainingConfirmBtn = widgets.Button(description=\"Confirm\")\n",
    "trainingResetBtn = widgets.Button(description=\"Reset\")\n",
    "trainingButtonsHbox = widgets.HBox([trainingConfirmBtn,trainingResetBtn])\n",
    "trainingOutput = widgets.Output()\n",
    "trainingVbox = widgets.VBox([trainingCsv,valuationCsv,trainingButtonsHbox, trainingOutput])\n",
    "def on_training_confirm_clicked(b):\n",
    "    with trainingOutput:\n",
    "        print(\"Generate label with csv file: \", os.path.normpath( trainingCsv.selected))\n",
    "        %run ./scripts/generate_label.py {os.path.normpath( trainingCsv.selected)}\n",
    "        %run ./scripts/generate_label.py {os.path.normpath( valuationCsv.selected)}\n",
    "        print(\"done generating label\")\n",
    "def on_training_reset_clicked(b):\n",
    "    trainingOutput.clear_output()\n",
    "    trainingCsv.reset()\n",
    "    valuationCsv.reset()\n",
    "trainingConfirmBtn.on_click(on_training_confirm_clicked)\n",
    "trainingResetBtn.on_click(on_training_reset_clicked)\n",
    "display(trainingVbox)"
   ]
  },
  {
   "cell_type": "markdown",
   "metadata": {},
   "source": [
    "**Step Training**"
   ]
  },
  {
   "cell_type": "code",
   "execution_count": 5,
   "metadata": {},
   "outputs": [
    {
     "data": {
      "application/vnd.jupyter.widget-view+json": {
       "model_id": "d3cfdd3f1ff642668b79db004357614f",
       "version_major": 2,
       "version_minor": 0
      },
      "text/plain": [
       "FileChooser(path='c:\\Users\\user\\Documents\\GitHub\\STEP3\\datasets\\ava', filename='', title='Select data file fol…"
      ]
     },
     "metadata": {},
     "output_type": "display_data"
    },
    {
     "data": {
      "application/vnd.jupyter.widget-view+json": {
       "model_id": "4890edfda3934533884d215c447bf4bc",
       "version_major": 2,
       "version_minor": 0
      },
      "text/plain": [
       "FileChooser(path='c:\\Users\\user\\Documents\\GitHub\\STEP3\\datasets\\ava\\cache', filename='', title='Select save fi…"
      ]
     },
     "metadata": {},
     "output_type": "display_data"
    },
    {
     "data": {
      "application/vnd.jupyter.widget-view+json": {
       "model_id": "837743a88a6c418abb9a330745313026",
       "version_major": 2,
       "version_minor": 0
      },
      "text/plain": [
       "FileChooser(path='c:\\Users\\user\\Documents\\GitHub\\STEP3\\pretrained', filename='', title='Select pretrain file',…"
      ]
     },
     "metadata": {},
     "output_type": "display_data"
    },
    {
     "data": {
      "application/vnd.jupyter.widget-view+json": {
       "model_id": "295af612d4ff43eb9fe10bb72d639884",
       "version_major": 2,
       "version_minor": 0
      },
      "text/plain": [
       "HBox(children=(Label(value='Epoch'), IntText(value=14)))"
      ]
     },
     "metadata": {},
     "output_type": "display_data"
    },
    {
     "data": {
      "application/vnd.jupyter.widget-view+json": {
       "model_id": "bc92194280be47429dd5a8335987319c",
       "version_major": 2,
       "version_minor": 0
      },
      "text/plain": [
       "HBox(children=(Label(value='Batch'), IntText(value=1)))"
      ]
     },
     "metadata": {},
     "output_type": "display_data"
    },
    {
     "data": {
      "application/vnd.jupyter.widget-view+json": {
       "model_id": "df45a82e48084cf5bd28ee518ff9297b",
       "version_major": 2,
       "version_minor": 0
      },
      "text/plain": [
       "HBox(children=(Label(value='Worker'), IntText(value=4)))"
      ]
     },
     "metadata": {},
     "output_type": "display_data"
    },
    {
     "data": {
      "application/vnd.jupyter.widget-view+json": {
       "model_id": "edb983a6291946df99ba99a2ae17edb9",
       "version_major": 2,
       "version_minor": 0
      },
      "text/plain": [
       "Button(description='Start', style=ButtonStyle(button_color='lightgreen', font_weight='bold'))"
      ]
     },
     "metadata": {},
     "output_type": "display_data"
    },
    {
     "data": {
      "application/vnd.jupyter.widget-view+json": {
       "model_id": "e090783bb2844d6d9262cbb2bd794db8",
       "version_major": 2,
       "version_minor": 0
      },
      "text/plain": [
       "Output()"
      ]
     },
     "metadata": {},
     "output_type": "display_data"
    }
   ],
   "source": [
    "# Step Training Model\n",
    "from cProfile import label\n",
    "data_root=\"datasets/ava/\"\n",
    "save_root=\"datasets/ava/cache/\"\n",
    "pretrain_path=\"pretrained/ava_cls.pth\"\n",
    "\n",
    "name=\"STEP\"\n",
    "base_net=\"i3d\"\n",
    "det_net=\"two_branch\"\n",
    "resume_path=\"Auto\"\n",
    "\n",
    "T=3\n",
    "max_iter=3    # index starts from 1\n",
    "iterative_mode=\"temporal\"\n",
    "anchor_mode=\"1\"\n",
    "temporal_mode=\"predict\"\n",
    "pool_mode=\"align\"\n",
    "pool_size=7\n",
    "\n",
    "# training schedule\n",
    "num_workers=4\n",
    "max_epochs=14\n",
    "batch_size=1\n",
    "optimizer=\"adam\"\n",
    "base_lr=7.5e-5\n",
    "det_lr0=1.5e-4\n",
    "det_lr=7.5e-4\n",
    "save_step=11465\n",
    "print_step=500\n",
    "scheduler=\"cosine\"\n",
    "milestones=\"-1\"\n",
    "warmup_iters=1000\n",
    "\n",
    "# losses\n",
    "dropout=0.3\n",
    "fc_dim=256\n",
    "lambda_reg=5\n",
    "lambda_neighbor=1\n",
    "cls_thresh=\"0.2,0.35,0.5\"\n",
    "reg_thresh=\"0.2,0.35,0.5\"\n",
    "max_pos_num=5\n",
    "neg_ratio=2\n",
    "NUM_SAMPLE=-1\n",
    "topk=300\n",
    "evaluate_topk=300\n",
    "\n",
    "# data augmentation / normalization\n",
    "scale_norm=2    # for i3d\n",
    "do_flip=\"True\"\n",
    "do_crop=\"True\"\n",
    "do_photometric=\"True\"\n",
    "do_erase=\"True\"\n",
    "freeze_affine=\"True\"\n",
    "freeze_stats=\"True\"\n",
    "outputTrain = widgets.Output()\n",
    "dataFileFolderPath = FileChooser(os.getcwd())\n",
    "dataFileFolderPath.title = \"Select data file folder\"\n",
    "dataFileFolderPath.default_path = os.path.join(os.getcwd(),\"datasets/ava/\")\n",
    "dataFileFolderPath.show_only_dirs = True\n",
    "saveFileFolderPath = FileChooser(os.getcwd())\n",
    "saveFileFolderPath.title = \"Select save file folder\"\n",
    "saveFileFolderPath.default_path = os.path.join(os.getcwd(),\"datasets/ava/cache/\")\n",
    "saveFileFolderPath.show_only_dirs = True\n",
    "pretrainFilePath = FileChooser(os.getcwd())\n",
    "pretrainFilePath.title = \"Select pretrain file\"\n",
    "pretrainFilePath.default_path = os.path.join(os.getcwd(),\"pretrained/\")\n",
    "pretrainFilePath.filter_pattern = \"*.pth\"\n",
    "epochLabel = widgets.Label(\"Epoch\")\n",
    "epochInput = widgets.IntText();\n",
    "epochInput.value = 14\n",
    "batchLabel = widgets.Label(\"Batch\")\n",
    "batchInput = widgets.IntText();\n",
    "batchInput.value = 1\n",
    "workerLabel = widgets.Label(\"Worker\")\n",
    "workerInput = widgets.IntText();\n",
    "workerInput.value = 4\n",
    "epochHbox = widgets.HBox([epochLabel,epochInput])\n",
    "batchHbox = widgets.HBox([batchLabel,batchInput])\n",
    "workerHbox = widgets.HBox([workerLabel,workerInput])\n",
    "startButton = widgets.Button(description=\"Start\")\n",
    "startButton.style.button_color = 'lightgreen'\n",
    "startButton.style.font_weight = 'bold'\n",
    "def startOnClick(b):\n",
    "    with outputTrain:\n",
    "        %run train.py --data_root $dataFileFolderPath.selected --save_root $saveFileFolderPath.selected \\\n",
    "        --name $name --pretrain_path $pretrainFilePath.selected --resume_path $resume_path \\\n",
    "        --base_net $base_net --det_net $det_net --max_iter $max_iter --T $T \\\n",
    "        --iterative_mode $iterative_mode --anchor_mode $anchor_mode --anchor_mode $anchor_mode --temporal_mode $temporal_mode \\\n",
    "        --pool_mode $pool_mode --pool_size $pool_size --save_step $save_step --topk $topk --evaluate_topk $evaluate_topk \\\n",
    "        --num_workers $workerInput.value --max_epochs $epochInput.value --batch_size $batchInput.value --print_step $print_step \\\n",
    "        --optimizer $optimizer --base_lr $base_lr --det_lr $det_lr --det_lr0 $det_lr0 --milestones $milestones \\\n",
    "        --scale_norm $scale_norm --do_flip $do_flip --do_crop $do_crop --do_photometric $do_photometric --do_erase $do_erase \\\n",
    "        --fc_dim $fc_dim --dropout $dropout --NUM_SAMPLE $NUM_SAMPLE --scheduler $scheduler --warmup_iters $warmup_iters \\\n",
    "        --cls_thresh $cls_thresh --reg_thresh $reg_thresh --max_pos_num $max_pos_num --neg_ratio $neg_ratio \\\n",
    "        --freeze_affine $freeze_affine --freeze_stats $freeze_stats --lambda_reg $lambda_reg --lambda_neighbor $lambda_neighbor\n",
    "startButton.on_click(startOnClick)\n",
    "display(dataFileFolderPath, saveFileFolderPath, pretrainFilePath, epochHbox, batchHbox, workerHbox, startButton, outputTrain)\n"
   ]
  },
  {
   "cell_type": "markdown",
   "metadata": {},
   "source": [
    "**Step Testing**\n"
   ]
  },
  {
   "cell_type": "code",
   "execution_count": 6,
   "metadata": {},
   "outputs": [
    {
     "data": {
      "application/vnd.jupyter.widget-view+json": {
       "model_id": "51454e2ca15648b59418e3318855bde4",
       "version_major": 2,
       "version_minor": 0
      },
      "text/plain": [
       "FileChooser(path='c:\\Users\\user\\Documents\\GitHub\\STEP3\\pretrained', filename='', title='Select pretrained file…"
      ]
     },
     "metadata": {},
     "output_type": "display_data"
    },
    {
     "data": {
      "application/vnd.jupyter.widget-view+json": {
       "model_id": "08e10687648e4741b4cf7a5dab8ffd2d",
       "version_major": 2,
       "version_minor": 0
      },
      "text/plain": [
       "Button(description='Test', style=ButtonStyle(button_color='lightgreen', font_weight='bold'))"
      ]
     },
     "metadata": {},
     "output_type": "display_data"
    },
    {
     "data": {
      "application/vnd.jupyter.widget-view+json": {
       "model_id": "66aa47e26fb7400f98eb75bd7b1cabe7",
       "version_major": 2,
       "version_minor": 0
      },
      "text/plain": [
       "Output()"
      ]
     },
     "metadata": {},
     "output_type": "display_data"
    }
   ],
   "source": [
    "pretrainedTestFs = FileChooser(os.getcwd())\n",
    "pretrainedTestFs.title = \"Select pretrained file\"\n",
    "pretrainedTestFs.default_path = os.path.join(os.getcwd(),\"pretrained/\")\n",
    "pretrainedTestFs.filter_pattern = \"*.pth\"\n",
    "testOutput = widgets.Output()\n",
    "testButton = widgets.Button(description=\"Test\")\n",
    "testButton.style.button_color = 'lightgreen'\n",
    "testButton.style.font_weight = 'bold'\n",
    "def testOnClick(b):\n",
    "    with testOutput:\n",
    "        %run test.py {pretrainedTestFs.selected}\n",
    "testButton.on_click(testOnClick)\n",
    "    \n",
    "display(pretrainedTestFs, testButton, testOutput)"
   ]
  },
  {
   "cell_type": "markdown",
   "metadata": {},
   "source": [
    "For reference"
   ]
  },
  {
   "cell_type": "code",
   "execution_count": null,
   "metadata": {},
   "outputs": [],
   "source": [
    "data_root=\"datasets/ava/\"\n",
    "save_root=\"datasets/ava/cache/\"\n",
    "pretrain_path=\"pretrained/ava_cls.pth\"\n",
    "\n",
    "name=\"STEP\"\n",
    "base_net=\"i3d\"\n",
    "det_net=\"two_branch\"\n",
    "resume_path=\"Auto\"\n",
    "\n",
    "T=3\n",
    "max_iter=3    # index starts from 1\n",
    "iterative_mode=\"temporal\"\n",
    "anchor_mode=\"1\"\n",
    "temporal_mode=\"predict\"\n",
    "pool_mode=\"align\"\n",
    "pool_size=7\n",
    "\n",
    "# training schedule\n",
    "num_workers=4\n",
    "max_epochs=14\n",
    "batch_size=1\n",
    "optimizer=\"adam\"\n",
    "base_lr=7.5e-5\n",
    "det_lr0=1.5e-4\n",
    "det_lr=7.5e-4\n",
    "save_step=11465\n",
    "print_step=500\n",
    "scheduler=\"cosine\"\n",
    "milestones=\"-1\"\n",
    "warmup_iters=1000\n",
    "\n",
    "# losses\n",
    "dropout=0.3\n",
    "fc_dim=256\n",
    "lambda_reg=5\n",
    "lambda_neighbor=1\n",
    "cls_thresh=\"0.2,0.35,0.5\"\n",
    "reg_thresh=\"0.2,0.35,0.5\"\n",
    "max_pos_num=5\n",
    "neg_ratio=2\n",
    "NUM_SAMPLE=-1\n",
    "topk=300\n",
    "evaluate_topk=300\n",
    "\n",
    "# data augmentation / normalization\n",
    "scale_norm=2    # for i3d\n",
    "do_flip=\"True\"\n",
    "do_crop=\"True\"\n",
    "do_photometric=\"True\"\n",
    "do_erase=\"True\"\n",
    "freeze_affine=\"True\"\n",
    "freeze_stats=\"True\"\n",
    "\n",
    "\n",
    "%run train.py --data_root $data_root --save_root $save_root \\\n",
    "--name $name --pretrain_path $pretrain_path --resume_path $resume_path \\\n",
    "    --base_net $base_net --det_net $det_net --max_iter $max_iter --T $T \\\n",
    "    --iterative_mode $iterative_mode --anchor_mode $anchor_mode --anchor_mode $anchor_mode --temporal_mode $temporal_mode \\\n",
    "    --pool_mode $pool_mode --pool_size $pool_size --save_step $save_step --topk $topk --evaluate_topk $evaluate_topk \\\n",
    "    --num_workers $num_workers --max_epochs $max_epochs --batch_size $batch_size --print_step $print_step \\\n",
    "    --optimizer $optimizer --base_lr $base_lr --det_lr $det_lr --det_lr0 $det_lr0 --milestones $milestones \\\n",
    "    --scale_norm $scale_norm --do_flip $do_flip --do_crop $do_crop --do_photometric $do_photometric --do_erase $do_erase \\\n",
    "    --fc_dim $fc_dim --dropout $dropout --NUM_SAMPLE $NUM_SAMPLE --scheduler $scheduler --warmup_iters $warmup_iters \\\n",
    "    --cls_thresh $cls_thresh --reg_thresh $reg_thresh --max_pos_num $max_pos_num --neg_ratio $neg_ratio \\\n",
    "    --freeze_affine $freeze_affine --freeze_stats $freeze_stats --lambda_reg $lambda_reg --lambda_neighbor $lambda_neighbor "
   ]
  },
  {
   "cell_type": "code",
   "execution_count": null,
   "metadata": {},
   "outputs": [],
   "source": [
    "%run test.py"
   ]
  },
  {
   "cell_type": "code",
   "execution_count": null,
   "metadata": {},
   "outputs": [],
   "source": [
    "%run ./scripts/generate_label.py \"datasets/ava/label/ava_train_v2.1.csv\"\n",
    "%run ./scripts/generate_label.py \"datasets/ava/label/ava_val_v2.1.csv\""
   ]
  }
 ],
 "metadata": {
  "kernelspec": {
   "display_name": "Python 3.6.8 64-bit",
   "language": "python",
   "name": "python3"
  },
  "language_info": {
   "codemirror_mode": {
    "name": "ipython",
    "version": 3
   },
   "file_extension": ".py",
   "mimetype": "text/x-python",
   "name": "python",
   "nbconvert_exporter": "python",
   "pygments_lexer": "ipython3",
   "version": "3.6.8"
  },
  "orig_nbformat": 4,
  "vscode": {
   "interpreter": {
    "hash": "e4155384af5840d15d68e8597407fad2e99d1893f7ce8c3788bc9723b5f2c767"
   }
  }
 },
 "nbformat": 4,
 "nbformat_minor": 2
}
