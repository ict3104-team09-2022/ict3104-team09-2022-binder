{
 "cells": [
  {
   "cell_type": "markdown",
   "id": "10fcc9dd",
   "metadata": {},
   "source": [
    "Content Page <br/>\n",
    "[Data Exploration](#data) <br/>\n",
    "[Feature Extraction](#feature) <br/>\n",
    "[TSU](#tsu) <br/>\n",
    "[STEP](#step) <br/>\n",
    "[MS-TCT](#tct) <br/>\n",
    "\n"
   ]
  },
  {
   "cell_type": "markdown",
   "id": "02054ffe",
   "metadata": {},
   "source": [
    "# DATA EXPLORATION\n",
    "<a id='data'></a>\n"
   ]
  },
  {
   "cell_type": "code",
   "execution_count": 4,
   "id": "77ea0e62",
   "metadata": {},
   "outputs": [
    {
     "name": "stdout",
     "output_type": "stream",
     "text": [
      "Requirement already satisfied: ipyfilechooser in c:\\users\\user\\appdata\\local\\programs\\python\\python36\\lib\\site-packages (0.6.0)\n",
      "Requirement already satisfied: ipywidgets in c:\\users\\user\\appdata\\local\\programs\\python\\python36\\lib\\site-packages (from ipyfilechooser) (7.7.2)\n",
      "Requirement already satisfied: ipython-genutils~=0.2.0 in c:\\users\\user\\appdata\\roaming\\python\\python36\\site-packages (from ipywidgets->ipyfilechooser) (0.2.0)\n",
      "Requirement already satisfied: jupyterlab-widgets<3,>=1.0.0 in c:\\users\\user\\appdata\\local\\programs\\python\\python36\\lib\\site-packages (from ipywidgets->ipyfilechooser) (1.1.1)\n",
      "Requirement already satisfied: widgetsnbextension~=3.6.0 in c:\\users\\user\\appdata\\local\\programs\\python\\python36\\lib\\site-packages (from ipywidgets->ipyfilechooser) (3.6.1)\n",
      "Requirement already satisfied: ipython>=4.0.0 in c:\\users\\user\\appdata\\roaming\\python\\python36\\site-packages (from ipywidgets->ipyfilechooser) (7.16.3)\n",
      "Requirement already satisfied: ipykernel>=4.5.1 in c:\\users\\user\\appdata\\roaming\\python\\python36\\site-packages (from ipywidgets->ipyfilechooser) (5.5.6)\n",
      "Requirement already satisfied: traitlets>=4.3.1 in c:\\users\\user\\appdata\\roaming\\python\\python36\\site-packages (from ipywidgets->ipyfilechooser) (4.3.3)\n",
      "Requirement already satisfied: jupyter-client in c:\\users\\user\\appdata\\roaming\\python\\python36\\site-packages (from ipykernel>=4.5.1->ipywidgets->ipyfilechooser) (7.1.2)\n",
      "Requirement already satisfied: tornado>=4.2 in c:\\users\\user\\appdata\\roaming\\python\\python36\\site-packages (from ipykernel>=4.5.1->ipywidgets->ipyfilechooser) (6.1)\n",
      "Requirement already satisfied: backcall in c:\\users\\user\\appdata\\roaming\\python\\python36\\site-packages (from ipython>=4.0.0->ipywidgets->ipyfilechooser) (0.2.0)\n",
      "Requirement already satisfied: decorator in c:\\users\\user\\appdata\\local\\programs\\python\\python36\\lib\\site-packages (from ipython>=4.0.0->ipywidgets->ipyfilechooser) (4.4.2)\n",
      "Requirement already satisfied: jedi<=0.17.2,>=0.10 in c:\\users\\user\\appdata\\roaming\\python\\python36\\site-packages (from ipython>=4.0.0->ipywidgets->ipyfilechooser) (0.17.2)\n",
      "Requirement already satisfied: colorama in c:\\users\\user\\appdata\\roaming\\python\\python36\\site-packages (from ipython>=4.0.0->ipywidgets->ipyfilechooser) (0.4.5)\n",
      "Requirement already satisfied: prompt-toolkit!=3.0.0,!=3.0.1,<3.1.0,>=2.0.0 in c:\\users\\user\\appdata\\roaming\\python\\python36\\site-packages (from ipython>=4.0.0->ipywidgets->ipyfilechooser) (3.0.31)\n",
      "Requirement already satisfied: pickleshare in c:\\users\\user\\appdata\\roaming\\python\\python36\\site-packages (from ipython>=4.0.0->ipywidgets->ipyfilechooser) (0.7.5)\n",
      "Requirement already satisfied: setuptools>=18.5 in c:\\users\\user\\appdata\\local\\programs\\python\\python36\\lib\\site-packages (from ipython>=4.0.0->ipywidgets->ipyfilechooser) (40.6.2)\n",
      "Requirement already satisfied: pygments in c:\\users\\user\\appdata\\roaming\\python\\python36\\site-packages (from ipython>=4.0.0->ipywidgets->ipyfilechooser) (2.13.0)\n",
      "Requirement already satisfied: six in c:\\users\\user\\appdata\\local\\programs\\python\\python36\\lib\\site-packages (from traitlets>=4.3.1->ipywidgets->ipyfilechooser) (1.16.0)\n",
      "Requirement already satisfied: notebook>=4.4.1 in c:\\users\\user\\appdata\\local\\programs\\python\\python36\\lib\\site-packages (from widgetsnbextension~=3.6.0->ipywidgets->ipyfilechooser) (6.4.10)\n",
      "Requirement already satisfied: parso<0.8.0,>=0.7.0 in c:\\users\\user\\appdata\\roaming\\python\\python36\\site-packages (from jedi<=0.17.2,>=0.10->ipython>=4.0.0->ipywidgets->ipyfilechooser) (0.7.1)\n",
      "Requirement already satisfied: nbformat in c:\\users\\user\\appdata\\local\\programs\\python\\python36\\lib\\site-packages (from notebook>=4.4.1->widgetsnbextension~=3.6.0->ipywidgets->ipyfilechooser) (5.1.3)\n",
      "Requirement already satisfied: nest-asyncio>=1.5 in c:\\users\\user\\appdata\\roaming\\python\\python36\\site-packages (from notebook>=4.4.1->widgetsnbextension~=3.6.0->ipywidgets->ipyfilechooser) (1.5.6)\n",
      "Requirement already satisfied: jupyter-core>=4.6.1 in c:\\users\\user\\appdata\\roaming\\python\\python36\\site-packages (from notebook>=4.4.1->widgetsnbextension~=3.6.0->ipywidgets->ipyfilechooser) (4.9.2)\n",
      "Requirement already satisfied: jinja2 in c:\\users\\user\\appdata\\local\\programs\\python\\python36\\lib\\site-packages (from notebook>=4.4.1->widgetsnbextension~=3.6.0->ipywidgets->ipyfilechooser) (3.0.3)\n",
      "Requirement already satisfied: Send2Trash>=1.8.0 in c:\\users\\user\\appdata\\local\\programs\\python\\python36\\lib\\site-packages (from notebook>=4.4.1->widgetsnbextension~=3.6.0->ipywidgets->ipyfilechooser) (1.8.0)\n",
      "Requirement already satisfied: argon2-cffi in c:\\users\\user\\appdata\\local\\programs\\python\\python36\\lib\\site-packages (from notebook>=4.4.1->widgetsnbextension~=3.6.0->ipywidgets->ipyfilechooser) (21.3.0)\n",
      "Requirement already satisfied: terminado>=0.8.3 in c:\\users\\user\\appdata\\local\\programs\\python\\python36\\lib\\site-packages (from notebook>=4.4.1->widgetsnbextension~=3.6.0->ipywidgets->ipyfilechooser) (0.12.1)\n",
      "Requirement already satisfied: prometheus-client in c:\\users\\user\\appdata\\local\\programs\\python\\python36\\lib\\site-packages (from notebook>=4.4.1->widgetsnbextension~=3.6.0->ipywidgets->ipyfilechooser) (0.15.0)\n",
      "Requirement already satisfied: nbconvert>=5 in c:\\users\\user\\appdata\\local\\programs\\python\\python36\\lib\\site-packages (from notebook>=4.4.1->widgetsnbextension~=3.6.0->ipywidgets->ipyfilechooser) (6.0.7)\n",
      "Requirement already satisfied: pyzmq>=17 in c:\\users\\user\\appdata\\roaming\\python\\python36\\site-packages (from notebook>=4.4.1->widgetsnbextension~=3.6.0->ipywidgets->ipyfilechooser) (24.0.1)\n",
      "Requirement already satisfied: entrypoints in c:\\users\\user\\appdata\\roaming\\python\\python36\\site-packages (from jupyter-client->ipykernel>=4.5.1->ipywidgets->ipyfilechooser) (0.4)\n",
      "Requirement already satisfied: python-dateutil>=2.1 in c:\\users\\user\\appdata\\roaming\\python\\python36\\site-packages (from jupyter-client->ipykernel>=4.5.1->ipywidgets->ipyfilechooser) (2.8.2)\n",
      "Requirement already satisfied: wcwidth in c:\\users\\user\\appdata\\roaming\\python\\python36\\site-packages (from prompt-toolkit!=3.0.0,!=3.0.1,<3.1.0,>=2.0.0->ipython>=4.0.0->ipywidgets->ipyfilechooser) (0.2.5)\n",
      "Requirement already satisfied: pywin32>=1.0 in c:\\users\\user\\appdata\\roaming\\python\\python36\\site-packages (from jupyter-core>=4.6.1->notebook>=4.4.1->widgetsnbextension~=3.6.0->ipywidgets->ipyfilechooser) (304)\n",
      "Requirement already satisfied: bleach in c:\\users\\user\\appdata\\local\\programs\\python\\python36\\lib\\site-packages (from nbconvert>=5->notebook>=4.4.1->widgetsnbextension~=3.6.0->ipywidgets->ipyfilechooser) (4.1.0)\n",
      "Requirement already satisfied: defusedxml in c:\\users\\user\\appdata\\local\\programs\\python\\python36\\lib\\site-packages (from nbconvert>=5->notebook>=4.4.1->widgetsnbextension~=3.6.0->ipywidgets->ipyfilechooser) (0.7.1)\n",
      "Requirement already satisfied: nbclient<0.6.0,>=0.5.0 in c:\\users\\user\\appdata\\local\\programs\\python\\python36\\lib\\site-packages (from nbconvert>=5->notebook>=4.4.1->widgetsnbextension~=3.6.0->ipywidgets->ipyfilechooser) (0.5.9)\n",
      "Requirement already satisfied: jupyterlab-pygments in c:\\users\\user\\appdata\\local\\programs\\python\\python36\\lib\\site-packages (from nbconvert>=5->notebook>=4.4.1->widgetsnbextension~=3.6.0->ipywidgets->ipyfilechooser) (0.1.2)\n",
      "Requirement already satisfied: testpath in c:\\users\\user\\appdata\\local\\programs\\python\\python36\\lib\\site-packages (from nbconvert>=5->notebook>=4.4.1->widgetsnbextension~=3.6.0->ipywidgets->ipyfilechooser) (0.6.0)\n",
      "Requirement already satisfied: mistune<2,>=0.8.1 in c:\\users\\user\\appdata\\local\\programs\\python\\python36\\lib\\site-packages (from nbconvert>=5->notebook>=4.4.1->widgetsnbextension~=3.6.0->ipywidgets->ipyfilechooser) (0.8.4)\n",
      "Requirement already satisfied: pandocfilters>=1.4.1 in c:\\users\\user\\appdata\\local\\programs\\python\\python36\\lib\\site-packages (from nbconvert>=5->notebook>=4.4.1->widgetsnbextension~=3.6.0->ipywidgets->ipyfilechooser) (1.5.0)\n",
      "Requirement already satisfied: MarkupSafe>=2.0 in c:\\users\\user\\appdata\\local\\programs\\python\\python36\\lib\\site-packages (from jinja2->notebook>=4.4.1->widgetsnbextension~=3.6.0->ipywidgets->ipyfilechooser) (2.0.1)\n",
      "Requirement already satisfied: jsonschema!=2.5.0,>=2.4 in c:\\users\\user\\appdata\\local\\programs\\python\\python36\\lib\\site-packages (from nbformat->notebook>=4.4.1->widgetsnbextension~=3.6.0->ipywidgets->ipyfilechooser) (3.2.0)\n",
      "Requirement already satisfied: pywinpty>=1.1.0 in c:\\users\\user\\appdata\\local\\programs\\python\\python36\\lib\\site-packages (from terminado>=0.8.3->notebook>=4.4.1->widgetsnbextension~=3.6.0->ipywidgets->ipyfilechooser) (1.1.6)\n",
      "Requirement already satisfied: argon2-cffi-bindings in c:\\users\\user\\appdata\\local\\programs\\python\\python36\\lib\\site-packages (from argon2-cffi->notebook>=4.4.1->widgetsnbextension~=3.6.0->ipywidgets->ipyfilechooser) (21.2.0)\n",
      "Requirement already satisfied: typing-extensions in c:\\users\\user\\appdata\\local\\programs\\python\\python36\\lib\\site-packages (from argon2-cffi->notebook>=4.4.1->widgetsnbextension~=3.6.0->ipywidgets->ipyfilechooser) (4.1.1)\n",
      "Requirement already satisfied: dataclasses in c:\\users\\user\\appdata\\local\\programs\\python\\python36\\lib\\site-packages (from argon2-cffi->notebook>=4.4.1->widgetsnbextension~=3.6.0->ipywidgets->ipyfilechooser) (0.8)\n",
      "Requirement already satisfied: importlib-metadata in c:\\users\\user\\appdata\\local\\programs\\python\\python36\\lib\\site-packages (from jsonschema!=2.5.0,>=2.4->nbformat->notebook>=4.4.1->widgetsnbextension~=3.6.0->ipywidgets->ipyfilechooser) (4.8.3)\n",
      "Requirement already satisfied: pyrsistent>=0.14.0 in c:\\users\\user\\appdata\\local\\programs\\python\\python36\\lib\\site-packages (from jsonschema!=2.5.0,>=2.4->nbformat->notebook>=4.4.1->widgetsnbextension~=3.6.0->ipywidgets->ipyfilechooser) (0.18.0)\n",
      "Requirement already satisfied: attrs>=17.4.0 in c:\\users\\user\\appdata\\local\\programs\\python\\python36\\lib\\site-packages (from jsonschema!=2.5.0,>=2.4->nbformat->notebook>=4.4.1->widgetsnbextension~=3.6.0->ipywidgets->ipyfilechooser) (22.1.0)\n",
      "Requirement already satisfied: async-generator in c:\\users\\user\\appdata\\local\\programs\\python\\python36\\lib\\site-packages (from nbclient<0.6.0,>=0.5.0->nbconvert>=5->notebook>=4.4.1->widgetsnbextension~=3.6.0->ipywidgets->ipyfilechooser) (1.10)\n",
      "Requirement already satisfied: cffi>=1.0.1 in c:\\users\\user\\appdata\\local\\programs\\python\\python36\\lib\\site-packages (from argon2-cffi-bindings->argon2-cffi->notebook>=4.4.1->widgetsnbextension~=3.6.0->ipywidgets->ipyfilechooser) (1.15.1)\n",
      "Requirement already satisfied: packaging in c:\\users\\user\\appdata\\local\\programs\\python\\python36\\lib\\site-packages (from bleach->nbconvert>=5->notebook>=4.4.1->widgetsnbextension~=3.6.0->ipywidgets->ipyfilechooser) (21.3)\n",
      "Requirement already satisfied: webencodings in c:\\users\\user\\appdata\\local\\programs\\python\\python36\\lib\\site-packages (from bleach->nbconvert>=5->notebook>=4.4.1->widgetsnbextension~=3.6.0->ipywidgets->ipyfilechooser) (0.5.1)\n",
      "Requirement already satisfied: pycparser in c:\\users\\user\\appdata\\local\\programs\\python\\python36\\lib\\site-packages (from cffi>=1.0.1->argon2-cffi-bindings->argon2-cffi->notebook>=4.4.1->widgetsnbextension~=3.6.0->ipywidgets->ipyfilechooser) (2.21)\n",
      "Requirement already satisfied: zipp>=0.5 in c:\\users\\user\\appdata\\local\\programs\\python\\python36\\lib\\site-packages (from importlib-metadata->jsonschema!=2.5.0,>=2.4->nbformat->notebook>=4.4.1->widgetsnbextension~=3.6.0->ipywidgets->ipyfilechooser) (3.6.0)\n",
      "Requirement already satisfied: pyparsing!=3.0.5,>=2.0.2 in c:\\users\\user\\appdata\\local\\programs\\python\\python36\\lib\\site-packages (from packaging->bleach->nbconvert>=5->notebook>=4.4.1->widgetsnbextension~=3.6.0->ipywidgets->ipyfilechooser) (3.0.9)\n",
      "Requirement already satisfied: wandb in c:\\users\\user\\appdata\\local\\programs\\python\\python36\\lib\\site-packages (0.13.5)\n",
      "Requirement already satisfied: docker-pycreds>=0.4.0 in c:\\users\\user\\appdata\\local\\programs\\python\\python36\\lib\\site-packages (from wandb) (0.4.0)\n",
      "Requirement already satisfied: protobuf!=4.0.*,!=4.21.0,<5,>=3.12.0 in c:\\users\\user\\appdata\\local\\programs\\python\\python36\\lib\\site-packages (from wandb) (3.19.6)\n",
      "Requirement already satisfied: psutil>=5.0.0 in c:\\users\\user\\appdata\\local\\programs\\python\\python36\\lib\\site-packages (from wandb) (5.9.4)\n",
      "Requirement already satisfied: six>=1.13.0 in c:\\users\\user\\appdata\\local\\programs\\python\\python36\\lib\\site-packages (from wandb) (1.16.0)\n",
      "Requirement already satisfied: dataclasses in c:\\users\\user\\appdata\\local\\programs\\python\\python36\\lib\\site-packages (from wandb) (0.8)\n",
      "Requirement already satisfied: GitPython>=1.0.0 in c:\\users\\user\\appdata\\local\\programs\\python\\python36\\lib\\site-packages (from wandb) (3.1.18)\n",
      "Requirement already satisfied: Click!=8.0.0,>=7.0 in c:\\users\\user\\appdata\\local\\programs\\python\\python36\\lib\\site-packages (from wandb) (8.0.4)\n",
      "Requirement already satisfied: PyYAML in c:\\users\\user\\appdata\\local\\programs\\python\\python36\\lib\\site-packages (from wandb) (6.0)\n",
      "Requirement already satisfied: pathtools in c:\\users\\user\\appdata\\local\\programs\\python\\python36\\lib\\site-packages (from wandb) (0.1.2)\n",
      "Requirement already satisfied: setproctitle in c:\\users\\user\\appdata\\local\\programs\\python\\python36\\lib\\site-packages (from wandb) (1.2.3)\n",
      "Requirement already satisfied: requests<3,>=2.0.0 in c:\\users\\user\\appdata\\local\\programs\\python\\python36\\lib\\site-packages (from wandb) (2.27.1)\n",
      "Requirement already satisfied: sentry-sdk>=1.0.0 in c:\\users\\user\\appdata\\local\\programs\\python\\python36\\lib\\site-packages (from wandb) (1.10.1)\n",
      "Requirement already satisfied: promise<3,>=2.0 in c:\\users\\user\\appdata\\local\\programs\\python\\python36\\lib\\site-packages (from wandb) (2.3)\n",
      "Requirement already satisfied: shortuuid>=0.5.0 in c:\\users\\user\\appdata\\local\\programs\\python\\python36\\lib\\site-packages (from wandb) (1.0.10)\n",
      "Requirement already satisfied: setuptools in c:\\users\\user\\appdata\\local\\programs\\python\\python36\\lib\\site-packages (from wandb) (40.6.2)\n",
      "Requirement already satisfied: colorama in c:\\users\\user\\appdata\\roaming\\python\\python36\\site-packages (from Click!=8.0.0,>=7.0->wandb) (0.4.5)\n",
      "Requirement already satisfied: importlib-metadata in c:\\users\\user\\appdata\\local\\programs\\python\\python36\\lib\\site-packages (from Click!=8.0.0,>=7.0->wandb) (4.8.3)\n",
      "Requirement already satisfied: gitdb<5,>=4.0.1 in c:\\users\\user\\appdata\\local\\programs\\python\\python36\\lib\\site-packages (from GitPython>=1.0.0->wandb) (4.0.9)\n",
      "Requirement already satisfied: typing-extensions>=3.7.4.0 in c:\\users\\user\\appdata\\local\\programs\\python\\python36\\lib\\site-packages (from GitPython>=1.0.0->wandb) (4.1.1)\n",
      "Requirement already satisfied: urllib3<1.27,>=1.21.1 in c:\\users\\user\\appdata\\local\\programs\\python\\python36\\lib\\site-packages (from requests<3,>=2.0.0->wandb) (1.26.12)\n",
      "Requirement already satisfied: charset-normalizer~=2.0.0 in c:\\users\\user\\appdata\\local\\programs\\python\\python36\\lib\\site-packages (from requests<3,>=2.0.0->wandb) (2.0.12)\n",
      "Requirement already satisfied: idna<4,>=2.5 in c:\\users\\user\\appdata\\local\\programs\\python\\python36\\lib\\site-packages (from requests<3,>=2.0.0->wandb) (3.4)\n",
      "Requirement already satisfied: certifi>=2017.4.17 in c:\\users\\user\\appdata\\local\\programs\\python\\python36\\lib\\site-packages (from requests<3,>=2.0.0->wandb) (2022.9.24)\n",
      "Requirement already satisfied: smmap<6,>=3.0.1 in c:\\users\\user\\appdata\\local\\programs\\python\\python36\\lib\\site-packages (from gitdb<5,>=4.0.1->GitPython>=1.0.0->wandb) (5.0.0)\n",
      "Requirement already satisfied: zipp>=0.5 in c:\\users\\user\\appdata\\local\\programs\\python\\python36\\lib\\site-packages (from importlib-metadata->Click!=8.0.0,>=7.0->wandb) (3.6.0)\n"
     ]
    },
    {
     "name": "stderr",
     "output_type": "stream",
     "text": [
      "wandb: Appending key for api.wandb.ai to your netrc file: C:\\Users\\user/.netrc\n"
     ]
    }
   ],
   "source": [
    "#Common Imports\n",
    "!pip install ipyfilechooser\n",
    "!pip install wandb\n",
    "import os\n",
    "from dotenv import load_dotenv\n",
    "\n",
    "!wandb login os.getenv(\"WANDB_KEY\")\n",
    "from ipyfilechooser import FileChooser\n",
    "import ipywidgets as widgets\n",
    "import sys\n",
    "sys.path.append('./Commons')\n",
    "import find_directory\n",
    "import find_fileName\n"
   ]
  },
  {
   "cell_type": "markdown",
   "id": "1c768eb4",
   "metadata": {},
   "source": [
    "# Feature Extraction\n",
    "\n",
    "The following section will depict the steps to extract features from videos. This feature extraction will be performed using v-iashin feature extraction which can be found https://github.com/v-iashin/video_features .\n",
    "<a id='feature'></a>\n",
    "\n",
    "## Prerequisites \n",
    "1. Store the videos that you wish to extract features from in the folder Data/Videos_MP4"
   ]
  },
  {
   "cell_type": "markdown",
   "id": "c11b1aec",
   "metadata": {},
   "source": [
    "## Create a Txt File containing all the video names\n",
    "\n",
    "This cell will create a txt file based on all the video names within the Data/Videos_MP4 folder. This txt file will be used in the feature extraction step."
   ]
  },
  {
   "cell_type": "code",
   "execution_count": null,
   "id": "d831f220",
   "metadata": {},
   "outputs": [],
   "source": [
    "from os import listdir\n",
    "from os.path import isfile, join\n",
    "\n",
    "onlyfiles = [f for f in listdir(\"../Data/Videos_mp4\") if isfile(join(\"../Data/Videos_mp4\", f))]\n",
    "with open('../Data/Videos_mp4/video_name.txt', 'w') as f:\n",
    "\n",
    "    for name in onlyfiles:\n",
    "        name = \"../../../Data/Videos_mp4/\" + name\n",
    "        f.write(name)\n",
    "        f.write('\\n')\n",
    "f.close()"
   ]
  },
  {
   "cell_type": "code",
   "execution_count": null,
   "id": "24912ef3",
   "metadata": {},
   "outputs": [],
   "source": [
    "%cd ./FeatureExtraction/video_features"
   ]
  },
  {
   "cell_type": "markdown",
   "id": "1dfbfaee",
   "metadata": {},
   "source": [
    "## Select the type of stream for feature extraction\n",
    "\n",
    "Available values are RGB, Flow and null.\n",
    "\n",
    "\n",
    "Null means that the stream will be default which will be RGB+Flow"
   ]
  },
  {
   "cell_type": "code",
   "execution_count": null,
   "id": "908319df",
   "metadata": {},
   "outputs": [],
   "source": [
    "stream = widgets.Dropdown(\n",
    "    options=['rgb', 'flow', 'null'],\n",
    "    value='rgb',\n",
    "    description='Stream:',\n",
    "    disabled=False,\n",
    ")\n",
    "display(stream)"
   ]
  },
  {
   "cell_type": "markdown",
   "id": "9fd2ce51",
   "metadata": {},
   "source": [
    "\n",
    "## Feature Extraction\n",
    "\n",
    "The following cell will perform the feature extraction.\n",
    "\n",
    "### Prerequisites\n",
    "1. Ensure that the folder \"ExtractedFeatures\" exist in the path of \"Codes/TSU/Toyota_Smarthome/pipline\""
   ]
  },
  {
   "cell_type": "code",
   "execution_count": 3,
   "id": "22357769",
   "metadata": {},
   "outputs": [
    {
     "ename": "NameError",
     "evalue": "name 'stream' is not defined",
     "output_type": "error",
     "traceback": [
      "\u001b[1;31m---------------------------------------------------------------------------\u001b[0m",
      "\u001b[1;31mNameError\u001b[0m                                 Traceback (most recent call last)",
      "\u001b[1;32m<ipython-input-3-867a6e586a21>\u001b[0m in \u001b[0;36m<module>\u001b[1;34m\u001b[0m\n\u001b[1;32m----> 1\u001b[1;33m \u001b[0mchosen_stream\u001b[0m \u001b[1;33m=\u001b[0m \u001b[0mstream\u001b[0m\u001b[1;33m.\u001b[0m\u001b[0mvalue\u001b[0m\u001b[1;33m\u001b[0m\u001b[1;33m\u001b[0m\u001b[0m\n\u001b[0m\u001b[0;32m      2\u001b[0m \u001b[0mget_ipython\u001b[0m\u001b[1;33m(\u001b[0m\u001b[1;33m)\u001b[0m\u001b[1;33m.\u001b[0m\u001b[0mrun_line_magic\u001b[0m\u001b[1;33m(\u001b[0m\u001b[1;34m'run'\u001b[0m\u001b[1;33m,\u001b[0m \u001b[1;34m'main.py feature_type=\"i3d\" device=\"cuda:0\" file_with_video_paths=\"../../../Data/Videos_mp4/video_name.txt\" output_path=\"../../../Codes/TSU/Toyota_Smarthome/pipline/ExtractedFeatures\" on_extraction=save_numpy streams=$chosen_stream '\u001b[0m\u001b[1;33m)\u001b[0m\u001b[1;33m\u001b[0m\u001b[1;33m\u001b[0m\u001b[0m\n",
      "\u001b[1;31mNameError\u001b[0m: name 'stream' is not defined"
     ]
    }
   ],
   "source": [
    "chosen_stream = stream.value\n",
    "%run main.py feature_type=\"i3d\" device=\"cuda:0\" file_with_video_paths=\"../../../Data/Videos_mp4/video_name.txt\" output_path=\"../../../Codes/TSU/Toyota_Smarthome/pipline/ExtractedFeatures\" on_extraction=save_numpy streams=$chosen_stream "
   ]
  },
  {
   "cell_type": "code",
   "execution_count": null,
   "id": "7f128734",
   "metadata": {},
   "outputs": [],
   "source": [
    "%cd ../../"
   ]
  },
  {
   "cell_type": "markdown",
   "id": "5e8a046b",
   "metadata": {},
   "source": [
    "# Training Model (TSU)\n",
    "<a id='tsu'></a>\n",
    "\n",
    "The following cells will depict the training of the model through the use of the Extracted Features completed previously. For further details, each cell will explain its functionality and purpose."
   ]
  },
  {
   "cell_type": "markdown",
   "id": "3ad2cd89",
   "metadata": {},
   "source": [
    "## Imports\n",
    "\n",
    "The following cell will import the various libraries required by the training of model. If there is any libraries that is not installed. Please install into the virtual environment to ensure that the training of model is able to run successfully."
   ]
  },
  {
   "cell_type": "code",
   "execution_count": 5,
   "id": "ed77aec4",
   "metadata": {},
   "outputs": [],
   "source": [
    "# @title Run this!!\n",
    "from os import listdir\n",
    "from os.path import isfile, join\n",
    "import csv\n",
    "import os\n",
    "import shutil\n",
    "from shutil import SameFileError\n",
    "import json\n",
    "from pathlib import Path\n",
    "import torch"
   ]
  },
  {
   "cell_type": "code",
   "execution_count": 6,
   "id": "bb3de788",
   "metadata": {},
   "outputs": [
    {
     "name": "stdout",
     "output_type": "stream",
     "text": [
      "c:\\Users\\user\\Documents\\GitHub\\ict3104-team09-2022-binder\\Codes\\TSU\\Toyota_Smarthome\\pipline\n"
     ]
    }
   ],
   "source": [
    "%cd ./TSU/Toyota_Smarthome/pipline"
   ]
  },
  {
   "attachments": {
    "image.png": {
     "image/png": "[encoded data removed]"
    }
   },
   "cell_type": "markdown",
   "id": "3b099755",
   "metadata": {},
   "source": [
    "## Curating the Extracted Features\n",
    "\n",
    "The following cell will curate the Extracted Features into Features that the training requires.\n",
    "\n",
    "Requirements:\n",
    "1. Ensure that the Feature Extraction is completed **OR** Features are stored in the \"ExtractedFeatures\" folder in \"Codes/TSU/Toyota_Smarthome/pipline\"\n",
    "2. Ensure that the folder named = \"CuratedExtractedFeatures\" exist in the directory \"Codes/TSU/Toyota_Smarthome/pipline\"\n",
    "![image.png](attachment:image.png)"
   ]
  },
  {
   "cell_type": "code",
   "execution_count": null,
   "id": "b32efe34",
   "metadata": {},
   "outputs": [],
   "source": [
    "onlyfiles = [f for f in listdir(\"./ExtractedFeatures/i3d/\") if isfile(join(\"./ExtractedFeatures/i3d/\", f))]\n",
    "\n",
    "f2 = open(\"./data/smarthome_CS_51.json\")\n",
    "data = json.load(f2)\n",
    "\n",
    "diction = {}\n",
    "RGBCount = 0\n",
    "\n",
    "for i in onlyfiles:\n",
    "  if i.__contains__(\"_rgb\"):\n",
    "    j = i.replace(\"_rgb\",\"\")\n",
    "    shutil.copyfile(\"./ExtractedFeatures/i3d/\"+i, \"./CuratedExtractedFeatures/\"+j)\n",
    "    j = j.replace(\".npy\",\"\")\n",
    "    diction[j] = data.get(j)\n",
    "    RGBCount += 1\n",
    "print(\"Total RGB files extracted: \" + str(RGBCount))\n",
    "f2.close()"
   ]
  },
  {
   "attachments": {
    "image.png": {
     "image/png": "[encoded data removed]"
    }
   },
   "cell_type": "markdown",
   "id": "c51f2929",
   "metadata": {},
   "source": [
    "## Compiling the Curated Extracted Features into a JSON \n",
    "\n",
    "The following cell will compile the curated features into a JSON object for training purposes.\n",
    "1. Ensure that the folder named = \"CuratedFeatures\" exist in the directory \"Codes/TSU/Toyota_Smarthome/pipline\"\n",
    "2. Ensure that the folder named = \"data\" exist in the directory \"Codes/TSU/Toyota_Smarthome/pipline\"\n",
    "\n",
    "![image.png](attachment:image.png)"
   ]
  },
  {
   "cell_type": "code",
   "execution_count": null,
   "id": "bc295acc",
   "metadata": {},
   "outputs": [],
   "source": [
    "with open('./data/smarthome_CS_32.json', 'w', encoding='utf-8') as f:\n",
    "    json.dump(diction, f, ensure_ascii=False)\n",
    "print(\"Smarthome_CS_32.json has been generated\")"
   ]
  },
  {
   "cell_type": "markdown",
   "id": "17813a95",
   "metadata": {},
   "source": [
    "## Selecting the variables\n",
    "\n",
    "\n",
    "The following cell will require the user to select the specific value for training of the model.\n",
    "1. Ensure that the folder named = \"TrainedModel\" exist in the current directory of the notebook and it is empty.\n",
    "<br></br>\n",
    "\n",
    "2. Mode {Unique Values}\n",
    "\t1. **There is 4 different modes RGB, FLOW, RGB+FLOW or FLOW+RGB**\n",
    "<br></br>\n",
    "\n",
    "3. Train {Boolean}\n",
    "\t1. **Determine if this is a training or testing.**\n",
    "<br></br>\n",
    "\n",
    "4. Epoch {Int}\n",
    "\t1.  **Defined as the total number of iterations of all the training data in one cycle for training the machine learning model.**\n",
    "<br></br>\n",
    "\n",
    "5. Batch Size {Int}\n",
    "\t1. **Defined as the number of training examples utilized in one iteration.**\n",
    "<br></br>\n",
    "\n",
    "6. Output {Folder}\n",
    "\t1. **This is the path of the output folder.**\n",
    "<br></br>"
   ]
  },
  {
   "cell_type": "code",
   "execution_count": 7,
   "id": "3b0d8e7d",
   "metadata": {},
   "outputs": [
    {
     "data": {
      "application/vnd.jupyter.widget-view+json": {
       "model_id": "62f81d9cdb234b13ace89135101285d6",
       "version_major": 2,
       "version_minor": 0
      },
      "text/plain": [
       "Dropdown(description='Train:', options=(True, False), value=True)"
      ]
     },
     "metadata": {},
     "output_type": "display_data"
    },
    {
     "data": {
      "application/vnd.jupyter.widget-view+json": {
       "model_id": "c0b166c1a8934dba864977c8c6e920cd",
       "version_major": 2,
       "version_minor": 0
      },
      "text/plain": [
       "Dropdown(description='Mode:', options=('rgb', 'flow', 'flow+rgb', 'rgb+flow'), value='rgb')"
      ]
     },
     "metadata": {},
     "output_type": "display_data"
    },
    {
     "data": {
      "application/vnd.jupyter.widget-view+json": {
       "model_id": "316a0a6004074756a048ae790543b11f",
       "version_major": 2,
       "version_minor": 0
      },
      "text/plain": [
       "IntText(value=140, description='Epoch:')"
      ]
     },
     "metadata": {},
     "output_type": "display_data"
    },
    {
     "data": {
      "application/vnd.jupyter.widget-view+json": {
       "model_id": "caeb6c96b9de4efea89fc297736498af",
       "version_major": 2,
       "version_minor": 0
      },
      "text/plain": [
       "IntText(value=1, description='Batch Size:')"
      ]
     },
     "metadata": {},
     "output_type": "display_data"
    }
   ],
   "source": [
    "#Display Train Dropdown Menu\n",
    "Train = widgets.Dropdown(\n",
    "    options=[True, False],\n",
    "    value=True,\n",
    "    description='Train:',\n",
    "    disabled=False,\n",
    ")\n",
    "display(Train)\n",
    "\n",
    "#Display Mode Dropdown Menu\n",
    "Mode = widgets.Dropdown(\n",
    "    options=['rgb', 'flow', 'flow+rgb', 'rgb+flow'],\n",
    "    value='rgb',\n",
    "    description='Mode:',\n",
    "    disabled=False,\n",
    ")\n",
    "display(Mode)\n",
    "\n",
    "#Display Epoch Dropdown Menu\n",
    "epoch = widgets.IntText(\n",
    "    value=140,\n",
    "    description='Epoch:',\n",
    "    disabled=False\n",
    ")\n",
    "display(epoch)\n",
    "\n",
    "#Display Batch Size Dropdown Menu\n",
    "batchsize = widgets.IntText(\n",
    "    value=1,\n",
    "    description='Batch Size:',\n",
    "    disabled=False\n",
    ")\n",
    "display(batchsize)\n",
    "\n"
   ]
  },
  {
   "cell_type": "markdown",
   "id": "b9fadbb6",
   "metadata": {},
   "source": [
    "\n",
    "## Select the output Path\n",
    "\n",
    "The following cell requires the user to pick the folder where they want to store the trained model at."
   ]
  },
  {
   "cell_type": "code",
   "execution_count": 8,
   "id": "9cbc5827",
   "metadata": {},
   "outputs": [
    {
     "data": {
      "application/vnd.jupyter.widget-view+json": {
       "model_id": "63aee2816d5b4ad98529569af6a47495",
       "version_major": 2,
       "version_minor": 0
      },
      "text/plain": [
       "FileChooser(path='c:\\Users\\user\\Documents\\GitHub\\ict3104-team09-2022-binder\\Codes\\TSU\\Toyota_Smarthome\\pipline…"
      ]
     },
     "metadata": {},
     "output_type": "display_data"
    }
   ],
   "source": [
    "filePathChooser = FileChooser()\n",
    "filePathChooser.show_only_dirs = True\n",
    "filePathChooser.default_path = os.getcwd()\n",
    "filePathChooser.sandbox_path = os.getcwd()\n",
    "display(filePathChooser)\n"
   ]
  },
  {
   "cell_type": "code",
   "execution_count": 9,
   "id": "549f72d7",
   "metadata": {},
   "outputs": [
    {
     "name": "stdout",
     "output_type": "stream",
     "text": [
      "c:\\Users\\user\\Documents\\GitHub\\ict3104-team09-2022-binder\\Codes\\TSU\\Toyota_Smarthome\\pipline\\poop\\\n"
     ]
    }
   ],
   "source": [
    "\n",
    "filePathInput = filePathChooser.selected\n",
    "print(filePathInput)\n",
    "\n"
   ]
  },
  {
   "cell_type": "markdown",
   "id": "f0909e72",
   "metadata": {},
   "source": [
    "## Training the Model\n",
    "\n",
    "The following cell will trained the model based on the variables that the user has selected previous."
   ]
  },
  {
   "cell_type": "code",
   "execution_count": 10,
   "id": "8eecb9e4",
   "metadata": {
    "scrolled": true
   },
   "outputs": [
    {
     "name": "stderr",
     "output_type": "stream",
     "text": [
      "Failed to detect the name of this notebook, you can set it manually with the WANDB_NOTEBOOK_NAME environment variable to enable code saving.\n",
      "\u001b[34m\u001b[1mwandb\u001b[0m: Currently logged in as: \u001b[33mchengliang\u001b[0m. Use \u001b[1m`wandb login --relogin`\u001b[0m to force relogin\n"
     ]
    },
    {
     "data": {
      "text/html": [
       "Tracking run with wandb version 0.13.5"
      ],
      "text/plain": [
       "<IPython.core.display.HTML object>"
      ]
     },
     "metadata": {},
     "output_type": "display_data"
    },
    {
     "data": {
      "text/html": [
       "Run data is saved locally in <code>c:\\Users\\user\\Documents\\GitHub\\ict3104-team09-2022-binder\\Codes\\TSU\\Toyota_Smarthome\\pipline\\wandb\\run-20221114_180650-i7fwer0y</code>"
      ],
      "text/plain": [
       "<IPython.core.display.HTML object>"
      ]
     },
     "metadata": {},
     "output_type": "display_data"
    },
    {
     "data": {
      "text/html": [
       "Syncing run <strong><a href=\"https://wandb.ai/chengliang/ICT-3104/runs/i7fwer0y\" target=\"_blank\">lucky-aardvark-85</a></strong> to <a href=\"https://wandb.ai/chengliang/ICT-3104\" target=\"_blank\">Weights & Biases</a> (<a href=\"https://wandb.me/run\" target=\"_blank\">docs</a>)<br/>"
      ],
      "text/plain": [
       "<IPython.core.display.HTML object>"
      ]
     },
     "metadata": {},
     "output_type": "display_data"
    },
    {
     "name": "stdout",
     "output_type": "stream",
     "text": [
      "HIIIIII i7fwer0y\n",
      "Random_SEED!!!: 0\n",
      "PDAN\n",
      "batch_size: 1\n",
      "cuda_avail True\n",
      "RGB mode ./CuratedExtractedFeatures\n"
     ]
    },
    {
     "name": "stderr",
     "output_type": "stream",
     "text": [
      "100%|██████████| 536/536 [00:02<00:00, 180.17it/s]\n",
      "100%|██████████| 536/536 [00:01<00:00, 401.20it/s] \n",
      "c:\\Users\\user\\Documents\\GitHub\\ict3104-team09-2022-binder\\Codes\\TSU\\Toyota_Smarthome\\pipline\\models.py:88: UserWarning: nn.init.kaiming_normal is now deprecated in favor of nn.init.kaiming_normal_.\n",
      "  init.kaiming_normal(self.key_conv.weight, mode='fan_out')\n",
      "c:\\Users\\user\\Documents\\GitHub\\ict3104-team09-2022-binder\\Codes\\TSU\\Toyota_Smarthome\\pipline\\models.py:89: UserWarning: nn.init.kaiming_normal is now deprecated in favor of nn.init.kaiming_normal_.\n",
      "  init.kaiming_normal(self.value_conv.weight, mode='fan_out')\n",
      "c:\\Users\\user\\Documents\\GitHub\\ict3104-team09-2022-binder\\Codes\\TSU\\Toyota_Smarthome\\pipline\\models.py:90: UserWarning: nn.init.kaiming_normal is now deprecated in favor of nn.init.kaiming_normal_.\n",
      "  init.kaiming_normal(self.query_conv.weight, mode='fan_out')\n",
      "c:\\Users\\user\\Documents\\GitHub\\ict3104-team09-2022-binder\\Codes\\TSU\\Toyota_Smarthome\\pipline\\models.py:91: UserWarning: nn.init.normal is now deprecated in favor of nn.init.normal_.\n",
      "  init.normal(self.rel_t, 0, 1)\n"
     ]
    },
    {
     "name": "stdout",
     "output_type": "stream",
     "text": [
      "you are processing PDAN\n",
      "loaded ./PreTrainedModel/PDAN_TSU_RGB\n",
      "pytorch_total_params 5804083\n",
      "num_channel: 512 input_channnel: 1024 num_classes: 51\n",
      "0.0002\n",
      "Epoch 0/2\n",
      "----------\n"
     ]
    },
    {
     "name": "stderr",
     "output_type": "stream",
     "text": [
      "c:\\Users\\user\\AppData\\Local\\Programs\\Python\\Python36\\lib\\site-packages\\torch\\nn\\_reduction.py:42: UserWarning: size_average and reduce args will be deprecated, please use reduction='none' instead.\n",
      "  warnings.warn(warning.format(ret))\n"
     ]
    }
   ],
   "source": [
    "%run ./train.py \\\n",
    "-dataset TSU \\\n",
    "-mode $Mode.value \\\n",
    "-split_setting CS \\\n",
    "-model PDAN \\\n",
    "-train $Train.value \\\n",
    "-num_channel 512 \\\n",
    "-lr 0.0002 \\\n",
    "-kernelsize 3 \\\n",
    "-APtype map \\\n",
    "-epoch $epoch.value \\\n",
    "-batch_size $batchsize.value \\\n",
    "-comp_info TSU_CS_RGB_PDAN \\\n",
    "-load_model ./PreTrainedModel/PDAN_TSU_RGB\\\n",
    "-rgb_root ./CuratedExtractedFeatures \\\n",
    "-featurePath ./data/smarthome_CS_32.json \\\n",
    "-outputTrain $filePathInput"
   ]
  },
  {
   "cell_type": "markdown",
   "id": "05e7f68a",
   "metadata": {},
   "source": [
    "## Evaluate Model\n",
    "\n",
    "The following cell will evaluate the model and return the result in a CSV file located in EvaluateModel/Evaluation.csv"
   ]
  },
  {
   "cell_type": "code",
   "execution_count": null,
   "id": "26609d95",
   "metadata": {},
   "outputs": [],
   "source": [
    "%run test.py \\\n",
    "-dataset TSU \\\n",
    "-mode rgb \\\n",
    "-split_setting CS \\\n",
    "-model PDAN \\\n",
    "-train False \\\n",
    "-num_channel 512 \\\n",
    "-lr 0.0002 \\\n",
    "-kernelsize 3 \\\n",
    "-APtype map \\\n",
    "-epoch 5 \\\n",
    "-batch_size 2 \\\n",
    "-comp_info TSU_CS_RGB_PDAN \\\n",
    "-load_model ./PreTrainedModel/PDAN_TSU_RGB \\\n",
    "-rgb_root ./Data/smarthome_CS_32.json \\\n",
    "-featurePath ./CuratedExtractedFeatures\\\n",
    "-outputTest ./EvaluateModel "
   ]
  },
  {
   "cell_type": "markdown",
   "id": "254410f6",
   "metadata": {},
   "source": [
    "# Video Inference \n",
    "\n",
    "The following section will depict the steps taken to perform the video Inference for TSU.\n",
    "\n",
    "## Limitations\n",
    "1. The video inference can only be performed one at a time. Hence user have to select the video that they wish to perform inference on. "
   ]
  },
  {
   "cell_type": "markdown",
   "id": "f7ec5588",
   "metadata": {},
   "source": [
    "\n",
    "## Select the specific video\n",
    "\n",
    "The following cells requires the user to pick the specific video that they want to do inference on"
   ]
  },
  {
   "cell_type": "code",
   "execution_count": null,
   "id": "0fd2d058",
   "metadata": {},
   "outputs": [],
   "source": [
    "vid = FileChooser('../../../../Data/Videos_mp4')\n",
    "display(vid)\n"
   ]
  },
  {
   "cell_type": "code",
   "execution_count": null,
   "id": "84f02d52",
   "metadata": {},
   "outputs": [],
   "source": [
    "videoPath = vid.selected\n",
    "videoInput = vid.selected_filename"
   ]
  },
  {
   "cell_type": "markdown",
   "id": "6716d925",
   "metadata": {},
   "source": [
    "\n",
    "## Select the output Path\n",
    "\n",
    "The following cell requires the user to pick the folder where they want to store the completed video inference at. \n",
    "\n",
    "There will be a folder named \"InferencedVideos\" available for users to store their videos if they wished to."
   ]
  },
  {
   "cell_type": "code",
   "execution_count": null,
   "id": "4e6cadb8",
   "metadata": {},
   "outputs": [],
   "source": [
    "filePathChooser = FileChooser()\n",
    "filePathChooser.show_only_dirs = True\n",
    "filePathChooser.default_path = os.getcwd()\n",
    "display(filePathChooser)"
   ]
  },
  {
   "cell_type": "code",
   "execution_count": null,
   "id": "f245fb44",
   "metadata": {},
   "outputs": [],
   "source": [
    "filePathInput = filePathChooser.selected_path"
   ]
  },
  {
   "cell_type": "markdown",
   "id": "cf99ddda",
   "metadata": {},
   "source": [
    "## Video Inference Step\n",
    "\n",
    "The following cell will run the video inference for TSU.\n",
    "\n",
    "**Please ensure that you have completed the previous two steps to select the specific video and the output path.**"
   ]
  },
  {
   "cell_type": "code",
   "execution_count": null,
   "id": "34fc35e5",
   "metadata": {},
   "outputs": [],
   "source": [
    "%run inference.py \\\n",
    "-dataset TSU \\\n",
    "-mode rgb \\\n",
    "-split_setting CS \\\n",
    "-model PDAN \\\n",
    "-train False \\\n",
    "-num_channel 512 \\\n",
    "-lr 0.0002 \\\n",
    "-kernelsize 3 \\\n",
    "-APtype map \\\n",
    "-epoch 5 \\\n",
    "-batch_size 2 \\\n",
    "-comp_info TSU_CS_RGB_PDAN \\\n",
    "-load_model ./PreTrainedModel/PDAN_TSU_RGB \\\n",
    "-rgb_root ./data/smarthome_CS_51.json \\\n",
    "-featurePath ./CuratedExtractedFeatures \\\n",
    "-VideoInputTest $videoInput \\\n",
    "-video_path $videoPath \\\n",
    "-annotations ./Annotation \\\n",
    "-filepath $filePathInput"
   ]
  },
  {
   "cell_type": "markdown",
   "id": "e68f576c",
   "metadata": {},
   "source": [
    "<h1>Step Imports</h1>\n",
    "<br></br>\n",
    "<a id='step'></a>\n",
    "\n",
    "**Run the following cell before anything**"
   ]
  },
  {
   "cell_type": "code",
   "execution_count": null,
   "id": "3db3fc1f",
   "metadata": {},
   "outputs": [],
   "source": [
    "# %cd ../../../\n",
    "!{sys.executable} -m pip install numpy opencv-python\n",
    "!{sys.executable} -m pip install torch==1.8.2 torchvision==0.9.2 torchaudio===0.8.2 --extra-index-url https://download.pytorch.org/whl/lts/1.8/cu111\n",
    "!{sys.executable} -m pip install ipywidgets\n",
    "\n",
    "from pydoc import describe\n",
    "from colorama import Style\n",
    "from ipyfilechooser import FileChooser\n",
    "import os\n",
    "import ipywidgets as widgets\n",
    "from IPython.display import HTML\n",
    "import cv2\n",
    "import numpy as np\n",
    "import glob\n",
    "\n"
   ]
  },
  {
   "cell_type": "markdown",
   "id": "575a2791",
   "metadata": {},
   "source": [
    "<h1>Step Inference</h1>\n",
    "\n",
    "<h3>The following cell will execute inference on selected pretrain model.</h3>\n",
    "\n",
    "1. Ensure that the folder named = \"pretrained\" exist in the Step directory of the notebook and it is empty.\n",
    "<br></br>\n",
    "\n",
    "2. Select Pretrained Model \n",
    "\t1. **When clicked, displays all the available pretrained model in the pretrained folder in step**\n",
    "<br></br>\n",
    "\n",
    "3. Select Video Frame Folder \n",
    "\t1. **Select a Folder containing video frames of desired video**\n",
    "<br></br>\n",
    "\n",
    "4. Select folder to save Inference Results\n",
    "\t1.  **Folder to save results from inferrence**\n",
    "<br></br>\n",
    "\n",
    "<br></br>"
   ]
  },
  {
   "cell_type": "code",
   "execution_count": null,
   "id": "a4ff3655",
   "metadata": {},
   "outputs": [],
   "source": [
    "# Step Inference\n",
    "preTrainedModelPicker = FileChooser(os.getcwd())\n",
    "preTrainedModelPicker.filter_pattern = \"*.pth\"\n",
    "preTrainedModelPicker.title = \"Select pre-trained model\"\n",
    "preTrainedModelPicker.default_path = os.path.join(os.getcwd(),\"step/pretrained\")\n",
    "\n",
    "fileList = os.listdir(os.path.join(os.getcwd(),\"step/pretrained\"))\n",
    "print(fileList)\n",
    "preTrainedDropDown = widgets.Dropdown(\n",
    "    options=fileList,\n",
    "    value=fileList[0],\n",
    "    description='Select Pre-trained Model:',\n",
    "    disabled=False,\n",
    ")\n",
    "\n",
    "fcSelectFrameFolder = FileChooser(os.getcwd())\n",
    "fcSelectFrameFolder.show_only_dirs = True\n",
    "fcSelectFrameFolder.title = \"Select video frame folder to run inference on:\"\n",
    "fcSelectFrameFolder.default_path = os.path.join(os.getcwd(),'step/datasets/demo/frames')\n",
    "fcSelectFrameFolder.sandbox_path = os.path.join(os.getcwd(),'step/datasets/demo/frames')\n",
    "\n",
    "fcSelectFolderFileList = os.listdir(os.path.join(os.getcwd(),\"step/datasets/demo/frames\"))\n",
    "fcSelectFolderDropdown = widgets.Dropdown(\n",
    "    options=fcSelectFolderFileList,\n",
    "    value=fcSelectFolderFileList[0],\n",
    "    description='Select Folder:',\n",
    "    disabled=False,\n",
    ")\n",
    "print (os.listdir(os.path.join(os.getcwd(),\"step/datasets/demo/frames\")))\n",
    "\n",
    "fcSelectFrameResultFolder = FileChooser(os.getcwd())\n",
    "fcSelectFrameResultFolder.show_only_dirs = True\n",
    "fcSelectFrameResultFolder.title = \"Select folder to save inference results to:\"\n",
    "fcSelectFrameResultFolder.default_path = os.path.join(os.getcwd(),'step/datasets/demo/results')\n",
    "\n",
    "\n",
    "\n",
    "selectVideoFrameFolder = widgets.HBox([widgets.Label(\"Save inference result to:\"),fcSelectFrameFolder])\n",
    "confirmBtn2 = widgets.Button(description=\"Confirm\")\n",
    "resetBtn2 = widgets.Button(description=\"Reset\")\n",
    "buttonsHbox2 = widgets.HBox([confirmBtn2])\n",
    "inferrenceOutput = widgets.Output()\n",
    "vbox2 = widgets.VBox([preTrainedDropDown,fcSelectFolderDropdown,buttonsHbox2, inferrenceOutput])\n",
    "def on_confirm_clicked2(b):\n",
    "    with inferrenceOutput:\n",
    "        # print(\"Running inference with pre-trained model: \", os.path.normpath( preTrainedModelPicker.selected))\n",
    "        # print(\"Running inference on video frame folder: \", fcSelectFrameFolder.selected_path)\n",
    "        # print(\"Saving results to: \", fcSelectFrameResultFolder.selected_path)\n",
    "        # print(os.path.join(os.getcwd(),\"step/datasets/demo/frames/\"+str(fcSelectFolderDropdown.value)))\n",
    "        # %run ./step/demo.py {os.path.join(fcSelectFrameFolder.selected_path,fcSelectFrameFolder.selected_filename)} {os.path.join(fcSelectFrameResultFolder.selected_path,fcSelectFrameResultFolder.selected_filename)} {os.path.normpath( preTrainedModelPicker.selected)}\n",
    "        %run ./step/demo.py {os.path.join(os.getcwd(),\"step/datasets/demo/frames/\"+fcSelectFolderDropdown.value)} {os.path.join(os.getcwd(),'step/datasets/demo/results')} {os.path.join(os.getcwd(),\"step/pretrained/\"+preTrainedDropDown.value)}\n",
    "        print(\"Inference completed!\")\n",
    "        print(\"Results saved to: \", \"step\\datasets\\demo\\results\")\n",
    "def on_reset_clicked2(b):\n",
    "    inferrenceOutput.clear_output()\n",
    "    fcSelectFrameFolder.reset()\n",
    "    fcSelectFrameResultFolder.reset()\n",
    "confirmBtn2.on_click(on_confirm_clicked2)\n",
    "resetBtn2.on_click(on_reset_clicked2)\n",
    "display(vbox2)"
   ]
  },
  {
   "cell_type": "markdown",
   "id": "5fe84b4c",
   "metadata": {},
   "source": [
    "\n",
    "<h1>Step Frames Extraction</h1>\n",
    "\n",
    "<h3>The following cell will execute frame extraction on folder containing videos</h3>\n",
    "\n",
    "1. Ensure that the folder named = \"input\" exists in the dataset Step directory of the notebook.\n",
    "<br></br>\n",
    "\n",
    "2. Select Folder containing video you wish to extract\n",
    "\t1. **Displays all the available pretrained model in the pretrained folder in step**\n",
    "<br></br>\n",
    "3. Click on confirm \n",
    "    1. **Takes the input provided and runs a script to extract frames from video**\n",
    "\n",
    "3. Results Output\n",
    "    1. **Frames of inputted videos are extracted at a rate of 30 frames per second**\n",
    "    2. **Extracted frames can be located at step\\datasets\\ava.**\n",
    "\n",
    "<br></br>"
   ]
  },
  {
   "cell_type": "code",
   "execution_count": null,
   "id": "52ef40ee",
   "metadata": {},
   "outputs": [],
   "source": [
    "fcSelectVideo = FileChooser(os.getcwd())\n",
    "fcSelectVideo.title = \"Select video folder to run frame extraction on:\"\n",
    "fcSelectVideo.default_path = os.path.join(os.getcwd(),'step/datasets/input/')\n",
    "fcResults = FileChooser(os.getcwd())\n",
    "fcResults.show_only_dirs = True\n",
    "fcResults.title = \"Select folder to save frame extraction results to:\"\n",
    "fcResults.default_path = os.path.join(os.getcwd(),'step/datasets/ava/')\n",
    "\n",
    "\n",
    "confirmBtn = widgets.Button(description=\"Confirm\")\n",
    "resetBtn = widgets.Button(description=\"Reset\")\n",
    "buttonsHbox = widgets.HBox([confirmBtn,resetBtn])\n",
    "\n",
    "\n",
    "output = widgets.Output()\n",
    "vbox = widgets.VBox([fcSelectVideo,fcResults,buttonsHbox, output])\n",
    "def on_confirm_clicked(b):\n",
    "    with output:\n",
    "        print(\"Running inference on video : \", os.path.join(fcSelectVideo.selected_path,fcSelectVideo.selected_filename))\n",
    "        print(\"Saving results to: \", fcResults.selected_path)\n",
    "        %run ./step/scripts/extract_clips2.py {os.path.join(fcSelectVideo.selected_path,fcSelectVideo.selected_filename)} {os.path.join(fcResults.selected_path,fcResults.selected_filename)}\n",
    "        output.clear_output()\n",
    "        print(\"Frame extraction completed!\") \n",
    "        \n",
    "def on_reset_clicked(b):\n",
    "    output.clear_output()\n",
    "    fcSelectVideo.reset()\n",
    "    fcResults.reset()\n",
    "confirmBtn.on_click(on_confirm_clicked)\n",
    "resetBtn.on_click(on_reset_clicked)\n",
    "\n",
    "display(vbox)\n",
    "\n"
   ]
  },
  {
   "cell_type": "markdown",
   "id": "7460f0f3",
   "metadata": {},
   "source": [
    "<h3>Step Training/Testing prerequisite generate label for training and valuation</h3>\n",
    "The following cell will transform training and valuation annotation files into pickle files \n",
    "\n",
    "1. Ensure that there is folder named 'label' in  the path 'step/datasets/ava/label/'.\n",
    "<br></br>\n",
    "![image](../../../../../../../C:/Users/user/Documents/GitHub/ict3104-team09-2022-binder/Codes/STEP/folder.png)\n",
    "2. Select training CSV \n",
    "\t1. **Select training annotation CSV from a list of annotation dataset to be transformed into a pickle file**\n",
    "<br></br>\n",
    "3. Select valuation CSV \n",
    "    1. **Select valuation annotation CSV from a list of annotation dataset to be transformed into a pickle file**\n",
    "\n",
    "3. Results Output\n",
    "    1. **Generates 2 pickle file for training at step\\datasets\\ava\\label**\n",
    "    <br></br>\n",
    "![image](../../../../../../../C:/Users/user/Documents/GitHub/ict3104-team09-2022-binder/Codes/STEP/Untitled.png)\n",
    "\n",
    "<br></br>"
   ]
  },
  {
   "cell_type": "code",
   "execution_count": null,
   "id": "2f3d62a5",
   "metadata": {},
   "outputs": [],
   "source": [
    "# Step training generating label\n",
    "# trainingCsv = FileChooser(os.getcwd())\n",
    "# trainingCsv.filter_pattern = \"*.csv\"\n",
    "# trainingCsv.title = \"Select training CSV file\"\n",
    "# trainingCsv.default_path = os.path.join(os.getcwd(),\"step/datasets/ava/label/\")\n",
    "valuationCsv = FileChooser(os.getcwd())\n",
    "valuationCsv.filter_pattern = \"*.csv\"\n",
    "valuationCsv.title = \"Select valuation CSV file\"\n",
    "valuationCsv.default_path = os.path.join(os.getcwd(),\"step/datasets/ava/label/\")\n",
    "\n",
    "trainingCSVdropdown = widgets.Dropdown(\n",
    "    options=os.listdir(os.path.join(os.getcwd(),\"step/datasets/ava/label/\")),\n",
    "    value=os.listdir(os.path.join(os.getcwd(),\"step/datasets/ava/label/\"))[0],\n",
    "    description='Select Training CSV:',\n",
    "    disabled=False,\n",
    ")\n",
    "valuationCSVdropdown = widgets.Dropdown(\n",
    "    options=os.listdir(os.path.join(os.getcwd(),\"step/datasets/ava/label/\")),\n",
    "    value=os.listdir(os.path.join(os.getcwd(),\"step/datasets/ava/label/\"))[0],\n",
    "    description='Select Valuation CSV:',\n",
    "    disabled=False,\n",
    ")\n",
    "\n",
    "trainingConfirmBtn = widgets.Button(description=\"Confirm\")\n",
    "trainingResetBtn = widgets.Button(description=\"Reset\")\n",
    "trainingButtonsHbox = widgets.HBox([trainingConfirmBtn])\n",
    "trainingOutput = widgets.Output()\n",
    "trainingVbox = widgets.VBox([trainingCSVdropdown,valuationCSVdropdown,trainingButtonsHbox, trainingOutput])\n",
    "def on_training_confirm_clicked(b):\n",
    "    with trainingOutput:\n",
    "        print(trainingCSVdropdown.value)\n",
    "        filePathTraining = os.path.join(os.getcwd(),\"step/datasets/ava/label/\"+trainingCSVdropdown.value)\n",
    "        filePathValuation = os.path.join(os.getcwd(),\"step/datasets/ava/label/\"+valuationCSVdropdown.value)\n",
    "        %run ./step/scripts/generate_label.py {filePathTraining}\n",
    "        print(\"done generating training label\")\n",
    "        %run ./step/scripts/generate_label.py {filePathValuation}\n",
    "        print(\"done generating valuation label\")\n",
    "       \n",
    "\n",
    "trainingConfirmBtn.on_click(on_training_confirm_clicked)\n",
    "display(trainingVbox)"
   ]
  },
  {
   "cell_type": "markdown",
   "id": "20c6900c",
   "metadata": {},
   "source": [
    "<h3> Step Training </h3>\n",
    "The following cell will train the model.\n",
    "<br></br>\n",
    "<h4>Prerequisites</h4>\n",
    "1) Training video frames are extracted and saved at Codes\\STEP\\datasets\\ava\\frames\n",
    "\n",
    "![image](STEP/frames.png)\n",
    "<br></br>\n",
    "2) Training pickle file is generated \n",
    "\n",
    "![image](../../../../../../../C:/Users/user/Documents/GitHub/ict3104-team09-2022-binder/Codes/STEP/Untitled.png)\n",
    "<br></br>\n",
    "\n",
    "\n",
    "1. Epoch {Int}\n",
    "\t1.  **Defined as the total number of iterations of all the training data in one cycle for training the machine learning model.**\n",
    "<br></br>\n",
    "\n",
    "2. Batch Size {Int}\n",
    "\t1. **Defined as the number of training examples utilized in one iteration.**\n",
    "<br></br>\n",
    "\n",
    "3. Worker {Int}\n",
    "\t1. **Defined as the number of worker threads**\n",
    "\n",
    "\n",
    "<br></br>"
   ]
  },
  {
   "cell_type": "code",
   "execution_count": null,
   "id": "ce7f527d",
   "metadata": {},
   "outputs": [],
   "source": [
    "# Step Training Model\n",
    "from cProfile import label\n",
    "data_root=\"step/datasets/ava/\"\n",
    "save_root=\"step/datasets/ava/cache/\"\n",
    "pretrain_path=\"step/pretrained/ava_cls.pth\"\n",
    "\n",
    "name=\"STEP\"\n",
    "base_net=\"i3d\"\n",
    "det_net=\"two_branch\"\n",
    "resume_path=\"Auto\"\n",
    "\n",
    "T=3\n",
    "max_iter=3    # index starts from 1\n",
    "iterative_mode=\"temporal\"\n",
    "anchor_mode=\"1\"\n",
    "temporal_mode=\"predict\"\n",
    "pool_mode=\"align\"\n",
    "pool_size=7\n",
    "\n",
    "# training schedule\n",
    "num_workers=4\n",
    "max_epochs=14\n",
    "batch_size=1\n",
    "optimizer=\"adam\"\n",
    "base_lr=7.5e-5\n",
    "det_lr0=1.5e-4\n",
    "det_lr=7.5e-4\n",
    "save_step=11465\n",
    "print_step=500\n",
    "scheduler=\"cosine\"\n",
    "milestones=\"-1\"\n",
    "warmup_iters=1000\n",
    "\n",
    "# losses\n",
    "dropout=0.3\n",
    "fc_dim=256\n",
    "lambda_reg=5\n",
    "lambda_neighbor=1\n",
    "cls_thresh=\"0.2,0.35,0.5\"\n",
    "reg_thresh=\"0.2,0.35,0.5\"\n",
    "max_pos_num=5\n",
    "neg_ratio=2\n",
    "NUM_SAMPLE=-1\n",
    "topk=300\n",
    "evaluate_topk=300\n",
    "\n",
    "# data augmentation / normalization\n",
    "scale_norm=2    # for i3d\n",
    "do_flip=\"True\"\n",
    "do_crop=\"True\"\n",
    "do_photometric=\"True\"\n",
    "do_erase=\"True\"\n",
    "freeze_affine=\"True\"\n",
    "freeze_stats=\"True\"\n",
    "outputTrain = widgets.Output()\n",
    "dataFileFolderPath = FileChooser(os.getcwd())\n",
    "dataFileFolderPath.title = \"Select data file folder\"\n",
    "dataFileFolderPath.default_path = os.path.join(os.getcwd(),\"step/datasets/ava/\")\n",
    "dataFileFolderPath.show_only_dirs = True\n",
    "saveFileFolderPath = FileChooser(os.getcwd())\n",
    "saveFileFolderPath.title = \"Select save file folder\"\n",
    "saveFileFolderPath.default_path = os.path.join(os.getcwd(),\"step/datasets/ava/cache/\")\n",
    "saveFileFolderPath.show_only_dirs = True\n",
    "epochLabel = widgets.Label(\"Epoch\")\n",
    "epochInput = widgets.IntText();\n",
    "epochInput.value = 14\n",
    "batchLabel = widgets.Label(\"Batch\")\n",
    "batchInput = widgets.IntText();\n",
    "batchInput.value = 1\n",
    "workerLabel = widgets.Label(\"Worker\")\n",
    "workerInput = widgets.IntText();\n",
    "workerInput.value = 4\n",
    "\n",
    "\n",
    "dataFilePath = os.path.join(os.getcwd(),\"step/datasets/ava/\")\n",
    "saveFilePath = os.path.join(os.getcwd(),\"step/datasets/ava/cache/\")\n",
    "pretrainFilePath = os.path.join(os.getcwd(),\"step/pretrained/ava_cls.pth\")\n",
    "\n",
    "epochHbox = widgets.HBox([epochLabel,epochInput])\n",
    "batchHbox = widgets.HBox([batchLabel,batchInput])\n",
    "workerHbox = widgets.HBox([workerLabel,workerInput])\n",
    "startButton = widgets.Button(description=\"Start\")\n",
    "startButton.style.button_color = 'lightgreen'\n",
    "startButton.style.font_weight = 'bold'\n",
    "def startOnClick(b):\n",
    "    with outputTrain:\n",
    "        %run ./step/train.py --data_root $dataFilePath --save_root $saveFilePath \\\n",
    "        --name $name --pretrain_path $pretrainFilePath --resume_path $resume_path \\\n",
    "        --base_net $base_net --det_net $det_net --max_iter $max_iter --T $T \\\n",
    "        --iterative_mode $iterative_mode --anchor_mode $anchor_mode --anchor_mode $anchor_mode --temporal_mode $temporal_mode \\\n",
    "        --pool_mode $pool_mode --pool_size $pool_size --save_step $save_step --topk $topk --evaluate_topk $evaluate_topk \\\n",
    "        --num_workers $workerInput.value --max_epochs $epochInput.value --batch_size $batchInput.value --print_step $print_step \\\n",
    "        --optimizer $optimizer --base_lr $base_lr --det_lr $det_lr --det_lr0 $det_lr0 --milestones $milestones \\\n",
    "        --scale_norm $scale_norm --do_flip $do_flip --do_crop $do_crop --do_photometric $do_photometric --do_erase $do_erase \\\n",
    "        --fc_dim $fc_dim --dropout $dropout --NUM_SAMPLE $NUM_SAMPLE --scheduler $scheduler --warmup_iters $warmup_iters \\\n",
    "        --cls_thresh $cls_thresh --reg_thresh $reg_thresh --max_pos_num $max_pos_num --neg_ratio $neg_ratio \\\n",
    "        --freeze_affine $freeze_affine --freeze_stats $freeze_stats --lambda_reg $lambda_reg --lambda_neighbor $lambda_neighbor\n",
    "startButton.on_click(startOnClick)\n",
    "display(epochHbox, batchHbox, workerHbox, startButton, outputTrain)"
   ]
  },
  {
   "cell_type": "markdown",
   "id": "b27f4d53",
   "metadata": {},
   "source": [
    "<h3>Step Testing</h3>\n",
    "\n",
    "<h4>The following cell would perform testing of selected pretrained model.</h4>\n",
    "<br></br>\n",
    "<h4>Prerequisites</h4>\n",
    "\n",
    "1) Valuation pickle file is generated \n",
    "\n",
    "![image](../../../../../../../C:/Users/user/Documents/GitHub/ict3104-team09-2022-binder/Codes/STEP/Untitled.png)\n",
    "<br></br>\n",
    "\n",
    "1. Select Pretrain file\n",
    "    1. **Select pretrain model to be tested**\n",
    "2. Output \n",
    "    1. **Testing output result would be saved to Codes\\STEP\\datasets\\ava\\cache completion of testing.**"
   ]
  },
  {
   "cell_type": "code",
   "execution_count": null,
   "id": "9d914f92",
   "metadata": {},
   "outputs": [],
   "source": [
    "pretrainedTestFs = FileChooser(os.getcwd())\n",
    "pretrainedTestFs.title = \"Select pretrained file\"\n",
    "pretrainedTestFs.default_path = os.path.join(os.getcwd(),\"step/pretrained/\")\n",
    "pretrainedTestFs.filter_pattern = \"*.pth\"\n",
    "testOutput = widgets.Output()\n",
    "testButton = widgets.Button(description=\"Test\")\n",
    "testButton.style.button_color = 'lightgreen'\n",
    "testButton.style.font_weight = 'bold'\n",
    "\n",
    "selectPretrainedLabel = widgets.Label(\"Select pretrained file to do testing:\")\n",
    "selectPretrainedLabel.style.font_weight = 'bold'\n",
    "pretrainedFileList = os.listdir(os.path.join(os.getcwd(),\"step/pretrained/\"))\n",
    "preTrainedDropDown = widgets.Dropdown(\n",
    "    options=pretrainedFileList,\n",
    "    value=pretrainedFileList[0],\n",
    "    description='Pretrained:',\n",
    "    disabled=False,\n",
    ")\n",
    "def testOnClick(b):\n",
    "    with testOutput:\n",
    "        testingFilePath = os.path.join(os.getcwd(),\"step/pretrained/\",preTrainedDropDown.value)\n",
    "        %run ./step/test.py {testingFilePath}\n",
    "        \n",
    "testButton.on_click(testOnClick)\n",
    "    \n",
    "display(selectPretrainedLabel,preTrainedDropDown, testButton, testOutput)"
   ]
  }
 ],
 "metadata": {
  "kernelspec": {
   "display_name": "Python 3.6.8 64-bit",
   "language": "python",
   "name": "python3"
  },
  "language_info": {
   "codemirror_mode": {
    "name": "ipython",
    "version": 3
   },
   "file_extension": ".py",
   "mimetype": "text/x-python",
   "name": "python",
   "nbconvert_exporter": "python",
   "pygments_lexer": "ipython3",
   "version": "3.6.8"
  },
  "vscode": {
   "interpreter": {
    "hash": "e4155384af5840d15d68e8597407fad2e99d1893f7ce8c3788bc9723b5f2c767"
   }
  }
 },
 "nbformat": 4,
 "nbformat_minor": 5
}
