{
 "cells": [
  {
   "cell_type": "markdown",
   "id": "1c768eb4",
   "metadata": {},
   "source": [
    "Feature Extraction\n",
    "\n",
    "Store the videos in a folder called data in FeatureExtraction folder"
   ]
  },
  {
   "cell_type": "code",
   "execution_count": 6,
   "id": "24912ef3",
   "metadata": {},
   "outputs": [
    {
     "name": "stdout",
     "output_type": "stream",
     "text": [
      "C:\\SIT\\3104\\FeatureExtraction\\video_features\n"
     ]
    }
   ],
   "source": [
    "%cd ../../../../FeatureExtraction/video_features"
   ]
  },
  {
   "cell_type": "code",
   "execution_count": 7,
   "id": "d831f220",
   "metadata": {},
   "outputs": [],
   "source": [
    "from os import listdir\n",
    "from os.path import isfile, join\n",
    "\n",
    "onlyfiles = [f for f in listdir(\"./data\") if isfile(join(\"./data\", f))]\n",
    "with open('./data/video_name.txt', 'w') as f:\n",
    "\n",
    "    for name in onlyfiles:\n",
    "        name = \"./data/\" + name\n",
    "        f.write(name)\n",
    "        f.write('\\n')"
   ]
  },
  {
   "cell_type": "code",
   "execution_count": null,
   "id": "908319df",
   "metadata": {},
   "outputs": [],
   "source": [
    "stream = widgets.Dropdown(\n",
    "    options=['rgb', 'flow', 'null'],\n",
    "    value='rgb',\n",
    "    description='Stream:',\n",
    "    disabled=False,\n",
    ")\n",
    "display(stream)"
   ]
  },
  {
   "cell_type": "code",
   "execution_count": 17,
   "id": "22357769",
   "metadata": {},
   "outputs": [
    {
     "name": "stdout",
     "output_type": "stream",
     "text": [
      "hit\n",
      "['i3d']\n",
      "../../Project/Toyota_Smarthome/Toyota_Smarthome/pipline/testing\\i3d\n",
      "feature_type: i3d\n",
      "stack_size: 64\n",
      "step_size: 64\n",
      "streams: rgb\n",
      "flow_type: pwc\n",
      "extraction_fps: null\n",
      "device: cuda:0\n",
      "on_extraction: save_numpy\n",
      "output_path: ../../Project/Toyota_Smarthome/Toyota_Smarthome/pipline/testing\\i3d\n",
      "tmp_path: ./tmp\\i3d\n",
      "keep_tmp_files: false\n",
      "show_pred: false\n",
      "config: null\n",
      "video_paths: null\n",
      "file_with_video_paths: ./data/video_name.txt\n",
      "\n",
      "Saving features to ../../Project/Toyota_Smarthome/Toyota_Smarthome/pipline/testing\\i3d\n",
      "Device: cuda:0\n",
      "hit\n",
      "The number of specified videos: 537\n"
     ]
    },
    {
     "name": "stderr",
     "output_type": "stream",
     "text": [
      "  0%|▏                                                                             | 1/537 [03:36<32:16:26, 216.77s/it]\n"
     ]
    },
    {
     "ename": "KeyboardInterrupt",
     "evalue": "",
     "output_type": "error",
     "traceback": [
      "\u001b[1;31m---------------------------------------------------------------------------\u001b[0m",
      "\u001b[1;31mKeyboardInterrupt\u001b[0m                         Traceback (most recent call last)",
      "File \u001b[1;32mC:\\SIT\\3104\\FeatureExtraction\\video_features\\./models\\_base\\base_extractor.py:45\u001b[0m, in \u001b[0;36mBaseExtractor._extract\u001b[1;34m(self, video_path)\u001b[0m\n\u001b[0;32m     43\u001b[0m \u001b[38;5;28;01mif\u001b[39;00m \u001b[38;5;129;01mnot\u001b[39;00m \u001b[38;5;28mself\u001b[39m\u001b[38;5;241m.\u001b[39mis_already_exist(video_path):\n\u001b[0;32m     44\u001b[0m     \u001b[38;5;66;03m# extracts features for a video path (this should be implemented by the child modules)\u001b[39;00m\n\u001b[1;32m---> 45\u001b[0m     feats_dict \u001b[38;5;241m=\u001b[39m \u001b[38;5;28;43mself\u001b[39;49m\u001b[38;5;241;43m.\u001b[39;49m\u001b[43mextract\u001b[49m\u001b[43m(\u001b[49m\u001b[43mvideo_path\u001b[49m\u001b[43m)\u001b[49m\n\u001b[0;32m     46\u001b[0m     \u001b[38;5;66;03m# either prints or saves to numpy/pickle\u001b[39;00m\n",
      "File \u001b[1;32m~\\anaconda3\\envs\\ICT3104Project\\lib\\site-packages\\torch\\autograd\\grad_mode.py:27\u001b[0m, in \u001b[0;36m_DecoratorContextManager.__call__.<locals>.decorate_context\u001b[1;34m(*args, **kwargs)\u001b[0m\n\u001b[0;32m     26\u001b[0m \u001b[38;5;28;01mwith\u001b[39;00m \u001b[38;5;28mself\u001b[39m\u001b[38;5;241m.\u001b[39mclone():\n\u001b[1;32m---> 27\u001b[0m     \u001b[38;5;28;01mreturn\u001b[39;00m \u001b[43mfunc\u001b[49m\u001b[43m(\u001b[49m\u001b[38;5;241;43m*\u001b[39;49m\u001b[43margs\u001b[49m\u001b[43m,\u001b[49m\u001b[43m \u001b[49m\u001b[38;5;241;43m*\u001b[39;49m\u001b[38;5;241;43m*\u001b[39;49m\u001b[43mkwargs\u001b[49m\u001b[43m)\u001b[49m\n",
      "File \u001b[1;32mC:\\SIT\\3104\\FeatureExtraction\\video_features\\./models\\i3d\\extract_i3d.py:94\u001b[0m, in \u001b[0;36mExtractI3D.extract\u001b[1;34m(self, video_path)\u001b[0m\n\u001b[0;32m     93\u001b[0m \u001b[38;5;28;01mwhile\u001b[39;00m cap\u001b[38;5;241m.\u001b[39misOpened():\n\u001b[1;32m---> 94\u001b[0m     frame_exists, rgb \u001b[38;5;241m=\u001b[39m \u001b[43mcap\u001b[49m\u001b[38;5;241;43m.\u001b[39;49m\u001b[43mread\u001b[49m\u001b[43m(\u001b[49m\u001b[43m)\u001b[49m\n\u001b[0;32m     96\u001b[0m     \u001b[38;5;28;01mif\u001b[39;00m first_frame:\n",
      "\u001b[1;31mKeyboardInterrupt\u001b[0m: ",
      "\nDuring handling of the above exception, another exception occurred:\n",
      "\u001b[1;31mKeyboardInterrupt\u001b[0m                         Traceback (most recent call last)",
      "File \u001b[1;32mC:\\SIT\\3104\\FeatureExtraction\\video_features\\main.py:57\u001b[0m\n\u001b[0;32m     55\u001b[0m \u001b[38;5;28;01mif\u001b[39;00m \u001b[38;5;18m__name__\u001b[39m \u001b[38;5;241m==\u001b[39m \u001b[38;5;124m'\u001b[39m\u001b[38;5;124m__main__\u001b[39m\u001b[38;5;124m'\u001b[39m:\n\u001b[0;32m     56\u001b[0m     args_cli \u001b[38;5;241m=\u001b[39m OmegaConf\u001b[38;5;241m.\u001b[39mfrom_cli()\n\u001b[1;32m---> 57\u001b[0m     \u001b[43mmain\u001b[49m\u001b[43m(\u001b[49m\u001b[43margs_cli\u001b[49m\u001b[43m)\u001b[49m\n",
      "File \u001b[1;32mC:\\SIT\\3104\\FeatureExtraction\\video_features\\main.py:50\u001b[0m, in \u001b[0;36mmain\u001b[1;34m(args_cli)\u001b[0m\n\u001b[0;32m     47\u001b[0m \u001b[38;5;28mprint\u001b[39m(\u001b[38;5;124mf\u001b[39m\u001b[38;5;124m'\u001b[39m\u001b[38;5;124mThe number of specified videos: \u001b[39m\u001b[38;5;132;01m{\u001b[39;00m\u001b[38;5;28mlen\u001b[39m(video_paths)\u001b[38;5;132;01m}\u001b[39;00m\u001b[38;5;124m'\u001b[39m)\n\u001b[0;32m     49\u001b[0m \u001b[38;5;28;01mfor\u001b[39;00m video_path \u001b[38;5;129;01min\u001b[39;00m tqdm(video_paths):\n\u001b[1;32m---> 50\u001b[0m     extractor\u001b[38;5;241m.\u001b[39m_extract(video_path)\n",
      "File \u001b[1;32mC:\\SIT\\3104\\FeatureExtraction\\video_features\\./models\\_base\\base_extractor.py:49\u001b[0m, in \u001b[0;36mBaseExtractor._extract\u001b[1;34m(self, video_path)\u001b[0m\n\u001b[0;32m     47\u001b[0m         \u001b[38;5;28mself\u001b[39m\u001b[38;5;241m.\u001b[39maction_on_extraction(feats_dict, video_path)\n\u001b[0;32m     48\u001b[0m \u001b[38;5;28;01mexcept\u001b[39;00m \u001b[38;5;167;01mKeyboardInterrupt\u001b[39;00m:\n\u001b[1;32m---> 49\u001b[0m     \u001b[38;5;28;01mraise\u001b[39;00m \u001b[38;5;167;01mKeyboardInterrupt\u001b[39;00m\n\u001b[0;32m     50\u001b[0m \u001b[38;5;28;01mexcept\u001b[39;00m:\n\u001b[0;32m     51\u001b[0m     \u001b[38;5;28mprint\u001b[39m(\u001b[38;5;124mf\u001b[39m\u001b[38;5;124m'\u001b[39m\u001b[38;5;124mAn error occurred during extraction from: \u001b[39m\u001b[38;5;132;01m{\u001b[39;00mvideo_path\u001b[38;5;132;01m}\u001b[39;00m\u001b[38;5;124m:\u001b[39m\u001b[38;5;124m'\u001b[39m)\n",
      "\u001b[1;31mKeyboardInterrupt\u001b[0m: "
     ]
    }
   ],
   "source": [
    "chosen_stream = stream.value\n",
    "%run main.py feature_type=\"i3d\" device=\"cuda:0\" file_with_video_paths=\"./data/video_name.txt\" output_path=\"../../Project/Toyota_Smarthome/Toyota_Smarthome/pipline/ExtractedFeatures\" on_extraction=save_numpy streams=chosen_stream "
   ]
  },
  {
   "cell_type": "markdown",
   "id": "5e8a046b",
   "metadata": {},
   "source": [
    "# Training Model (TSU)\n",
    "\n",
    "The following cells will depict the training of the model through the use of the Extracted Features completed previously. For further details, each cell will explain its functionality and purpose."
   ]
  },
  {
   "cell_type": "markdown",
   "id": "3ad2cd89",
   "metadata": {},
   "source": [
    "## Imports\n",
    "\n",
    "The following cell will import the various libraries required by the training of model. If there is any libraries that is not installed. Please install into the virtual environment to ensure that the training of model is able to run successfully."
   ]
  },
  {
   "cell_type": "code",
   "execution_count": 1,
   "id": "ed77aec4",
   "metadata": {},
   "outputs": [],
   "source": [
    "# @title Run this!!\n",
    "from os import listdir\n",
    "from os.path import isfile, join\n",
    "import csv\n",
    "import os\n",
    "import shutil\n",
    "from shutil import SameFileError\n",
    "import json\n",
    "from pathlib import Path\n",
    "import torch\n",
    "import ipywidgets as widgets"
   ]
  },
  {
   "attachments": {
    "image.png": {
     "image/png": "[encoded data removed]"
    }
   },
   "cell_type": "markdown",
   "id": "3b099755",
   "metadata": {},
   "source": [
    "## Curating the Extracted Features\n",
    "\n",
    "The following cell will curate the Extracted Features into Features that the training requires.\n",
    "Requirements:\n",
    "1. Ensure that the Extracted Features done in the previous step is in a folder named \"ExtractedFeatures\"\n",
    "2. Ensure that the folder named = \"CuratedExtractedFeatures\" exist in the current directory of the notebook\n",
    "![image.png](attachment:image.png)"
   ]
  },
  {
   "cell_type": "code",
   "execution_count": 2,
   "id": "b32efe34",
   "metadata": {},
   "outputs": [
    {
     "name": "stdout",
     "output_type": "stream",
     "text": [
      "Total RGB files extracted: 536\n"
     ]
    }
   ],
   "source": [
    "onlyfiles = [f for f in listdir(\"./ExtractedFeatures\") if isfile(join(\"./ExtractedFeatures\", f))]\n",
    "\n",
    "f2 = open(\".//data/smarthome_CS_51.json\")\n",
    "data = json.load(f2)\n",
    "\n",
    "diction = {}\n",
    "RGBCount = 0\n",
    "\n",
    "for i in onlyfiles:\n",
    "  if i.__contains__(\"_rgb\"):\n",
    "    j = i.replace(\"_rgb\",\"\")\n",
    "    shutil.copyfile(\"./ExtractedFeatures/\"+i, \"./CuratedExtractedFeatures/\"+j)\n",
    "    j = j.replace(\".npy\",\"\")\n",
    "    diction[j] = data.get(j)\n",
    "    RGBCount += 1\n",
    "print(\"Total RGB files extracted: \" + str(RGBCount))\n",
    "f2.close()"
   ]
  },
  {
   "attachments": {
    "image.png": {
     "image/png": "[encoded data removed]"
    }
   },
   "cell_type": "markdown",
   "id": "c51f2929",
   "metadata": {},
   "source": [
    "## Compiling the Curated Extracted Features into a JSON \n",
    "\n",
    "The following cell will compile the curated features into a JSON object for training purposes.\n",
    "1. Ensure that the folder named = \"CuratedFeatures\" exist in the current directory of the notebook\n",
    "2. Ensure that the folder named = \"data\" exist in the current directory of the notebook\n",
    "\n",
    "![image.png](attachment:image.png)"
   ]
  },
  {
   "cell_type": "code",
   "execution_count": 3,
   "id": "bc295acc",
   "metadata": {},
   "outputs": [
    {
     "name": "stdout",
     "output_type": "stream",
     "text": [
      "Smarthome_CS_32.json has been generated\n"
     ]
    }
   ],
   "source": [
    "with open('./data/smarthome_CS_32.json', 'w', encoding='utf-8') as f:\n",
    "    json.dump(diction, f, ensure_ascii=False)\n",
    "print(\"Smarthome_CS_32.json has been generated\")"
   ]
  },
  {
   "cell_type": "markdown",
   "id": "17813a95",
   "metadata": {},
   "source": [
    "## Training the Model\n",
    "\n",
    "The following cell will train the model.\n",
    "1. Ensure that the folder named = \"TrainedModel\" exist in the current directory of the notebook and it is empty.\n",
    "<br></br>\n",
    "\n",
    "2. Mode {Unique Values}\n",
    "\t1. **There is 4 different modes RGB, FLOW, RGB+FLOW or FLOW+RGB**\n",
    "<br></br>\n",
    "\n",
    "3. Train {Boolean}\n",
    "\t1. **Determine if this is a training or testing.**\n",
    "<br></br>\n",
    "\n",
    "4. Epoch {Int}\n",
    "\t1.  **Defined as the total number of iterations of all the training data in one cycle for training the machine learning model.**\n",
    "<br></br>\n",
    "\n",
    "5. Batch Size {Int}\n",
    "\t1. **Defined as the number of training examples utilized in one iteration.**\n",
    "<br></br>\n",
    "\n",
    "6. Output {Folder}\n",
    "\t1. **This is the path of the output folder.**\n",
    "<br></br>"
   ]
  },
  {
   "cell_type": "code",
   "execution_count": 2,
   "id": "3b0d8e7d",
   "metadata": {},
   "outputs": [
    {
     "data": {
      "application/vnd.jupyter.widget-view+json": {
       "model_id": "005cb1da602b45dfb52fcdec10f3528a",
       "version_major": 2,
       "version_minor": 0
      },
      "text/plain": [
       "Dropdown(description='Train:', options=(True, False), value=True)"
      ]
     },
     "metadata": {},
     "output_type": "display_data"
    },
    {
     "data": {
      "application/vnd.jupyter.widget-view+json": {
       "model_id": "89b258317d284602a7e0cbb3998405a7",
       "version_major": 2,
       "version_minor": 0
      },
      "text/plain": [
       "Dropdown(description='Mode:', options=('rgb', 'flow', 'flow+rgb', 'rgb+flow'), value='rgb')"
      ]
     },
     "metadata": {},
     "output_type": "display_data"
    },
    {
     "data": {
      "application/vnd.jupyter.widget-view+json": {
       "model_id": "2a36f1acf0bc49a9acc564006a1b041d",
       "version_major": 2,
       "version_minor": 0
      },
      "text/plain": [
       "IntText(value=140, description='Epoch:')"
      ]
     },
     "metadata": {},
     "output_type": "display_data"
    },
    {
     "data": {
      "application/vnd.jupyter.widget-view+json": {
       "model_id": "fbf4efe58c3744dc8209d606c9e75bd9",
       "version_major": 2,
       "version_minor": 0
      },
      "text/plain": [
       "IntText(value=1, description='Batch Size:')"
      ]
     },
     "metadata": {},
     "output_type": "display_data"
    },
    {
     "data": {
      "application/vnd.jupyter.widget-view+json": {
       "model_id": "0f69112bd6d7487b93316cd43e20e6ef",
       "version_major": 2,
       "version_minor": 0
      },
      "text/plain": [
       "Dropdown(description='Output:', options=('.ipynb_checkpoints', 'Annotation', 'CuratedExtractedFeatures', 'data…"
      ]
     },
     "metadata": {},
     "output_type": "display_data"
    }
   ],
   "source": [
    "#Display Train Dropdown Menu\n",
    "Train = widgets.Dropdown(\n",
    "    options=[True, False],\n",
    "    value=True,\n",
    "    description='Train:',\n",
    "    disabled=False,\n",
    ")\n",
    "display(Train)\n",
    "\n",
    "#Display Mode Dropdown Menu\n",
    "Mode = widgets.Dropdown(\n",
    "    options=['rgb', 'flow', 'flow+rgb', 'rgb+flow'],\n",
    "    value='rgb',\n",
    "    description='Mode:',\n",
    "    disabled=False,\n",
    ")\n",
    "display(Mode)\n",
    "\n",
    "#Display Epoch Dropdown Menu\n",
    "epoch = widgets.IntText(\n",
    "    value=140,\n",
    "    description='Epoch:',\n",
    "    disabled=False\n",
    ")\n",
    "display(epoch)\n",
    "\n",
    "#Display Batch Size Dropdown Menu\n",
    "batchsize = widgets.IntText(\n",
    "    value=1,\n",
    "    description='Batch Size:',\n",
    "    disabled=False\n",
    ")\n",
    "display(batchsize)\n",
    "\n",
    "#Display Output Dropdown Menu\n",
    "fileList = [ name for name in os.listdir() if os.path.isdir(os.path.join(name)) ]\n",
    "output = widgets.Dropdown(\n",
    "    options=fileList,\n",
    "    value=fileList[0],\n",
    "    description='Output:',\n",
    "    disabled=False,\n",
    ")\n",
    "display(output)\n"
   ]
  },
  {
   "cell_type": "code",
   "execution_count": 5,
   "id": "8eecb9e4",
   "metadata": {
    "scrolled": true
   },
   "outputs": [
    {
     "name": "stdout",
     "output_type": "stream",
     "text": [
      "Random_SEED!!!: 0\n",
      "PDAN\n",
      "batch_size: 1\n",
      "cuda_avail True\n",
      "RGB mode ./CuratedExtractedFeatures\n"
     ]
    },
    {
     "name": "stderr",
     "output_type": "stream",
     "text": [
      "100%|███████████████████████████████████████████████████████████████████████████████| 536/536 [00:04<00:00, 133.87it/s]\n",
      "100%|███████████████████████████████████████████████████████████████████████████████| 536/536 [00:02<00:00, 248.32it/s]\n",
      "C:\\SIT\\3104\\Project\\Toyota_Smarthome\\Toyota_Smarthome\\pipline\\models.py:88: UserWarning: nn.init.kaiming_normal is now deprecated in favor of nn.init.kaiming_normal_.\n",
      "  init.kaiming_normal(self.key_conv.weight, mode='fan_out')\n",
      "C:\\SIT\\3104\\Project\\Toyota_Smarthome\\Toyota_Smarthome\\pipline\\models.py:89: UserWarning: nn.init.kaiming_normal is now deprecated in favor of nn.init.kaiming_normal_.\n",
      "  init.kaiming_normal(self.value_conv.weight, mode='fan_out')\n",
      "C:\\SIT\\3104\\Project\\Toyota_Smarthome\\Toyota_Smarthome\\pipline\\models.py:90: UserWarning: nn.init.kaiming_normal is now deprecated in favor of nn.init.kaiming_normal_.\n",
      "  init.kaiming_normal(self.query_conv.weight, mode='fan_out')\n",
      "C:\\SIT\\3104\\Project\\Toyota_Smarthome\\Toyota_Smarthome\\pipline\\models.py:91: UserWarning: nn.init.normal is now deprecated in favor of nn.init.normal_.\n",
      "  init.normal(self.rel_t, 0, 1)\n"
     ]
    },
    {
     "name": "stdout",
     "output_type": "stream",
     "text": [
      "you are processing PDAN\n",
      "loaded ./PreTrainedModel/PDAN_TSU_RGB\n",
      "pytorch_total_params 5804083\n",
      "num_channel: 512 input_channnel: 1024 num_classes: 51\n",
      "0.0002\n",
      "Epoch 0/139\n",
      "----------\n"
     ]
    },
    {
     "name": "stderr",
     "output_type": "stream",
     "text": [
      "C:\\Users\\Ivan\\anaconda3\\envs\\ICT3104Project\\lib\\site-packages\\torch\\nn\\_reduction.py:42: UserWarning: size_average and reduce args will be deprecated, please use reduction='none' instead.\n",
      "  warnings.warn(warning.format(ret))\n",
      "C:\\Users\\Ivan\\anaconda3\\envs\\ICT3104Project\\lib\\site-packages\\torch\\nn\\functional.py:1967: UserWarning: nn.functional.sigmoid is deprecated. Use torch.sigmoid instead.\n",
      "  warnings.warn(\"nn.functional.sigmoid is deprecated. Use torch.sigmoid instead.\")\n",
      "C:\\Users\\Ivan\\anaconda3\\envs\\ICT3104Project\\lib\\site-packages\\torch\\nn\\_reduction.py:42: UserWarning: size_average and reduce args will be deprecated, please use reduction='sum' instead.\n",
      "  warnings.warn(warning.format(ret))\n",
      "C:\\SIT\\3104\\Project\\Toyota_Smarthome\\Toyota_Smarthome\\pipline\\apmeter.py:108: UserWarning: torch.range is deprecated and will be removed in a future release because its behavior is inconsistent with Python's range builtin. Instead, use torch.arange, which produces values in [start, end).\n",
      "  rg = torch.range(1, self.scores.size(0)).float()\n",
      "C:\\SIT\\3104\\Project\\Toyota_Smarthome\\Toyota_Smarthome\\pipline\\apmeter.py:137: UserWarning: indexing with dtype torch.uint8 is now deprecated, please use a dtype torch.bool instead. (Triggered internally at C:\\cb\\pytorch_1000000000000\\work\\aten\\src\\ATen/native/IndexingUtils.h:28.)\n",
      "  ap[k] = precision[truth.byte()].sum() / max(truth.sum(), 1)\n"
     ]
    },
    {
     "name": "stdout",
     "output_type": "stream",
     "text": [
      "train-map: tensor(9.8386)\n",
      "val-map: tensor(16.4899)\n",
      "tensor([1.1809e+01, 3.0725e+01, 1.7281e+01, 1.6856e+01, 1.1476e+01, 2.2154e+01,\n",
      "        1.3568e+00, 1.4015e+01, 1.0216e+01, 4.6609e+00, 3.7704e+00, 1.4955e+00,\n",
      "        1.7957e+00, 1.2671e+01, 5.8706e+00, 3.0990e+00, 1.9949e+00, 2.6940e+01,\n",
      "        2.6071e+00, 4.9460e+01, 4.7091e+00, 2.4734e+01, 4.5968e+01, 2.9783e+00,\n",
      "        2.5286e-01, 2.3815e+01, 2.9008e+01, 2.6081e+01, 1.9105e+01, 2.0138e+00,\n",
      "        1.2921e+00, 1.1555e-02, 1.5982e+01, 1.0094e+00, 4.0728e+01, 9.1953e+01,\n",
      "        1.6520e+01, 6.9750e+00, 1.1606e+01, 1.8591e+00, 3.1841e+01, 3.3713e+00,\n",
      "        2.1327e+01, 6.6215e+01, 1.0676e+00, 3.5122e+01, 2.5098e+01, 2.6026e+01,\n",
      "        1.2835e+01, 1.0562e+00, 1.6760e-01])\n",
      "save here: ./Testing/weight_epoch_0.0002_0\n",
      "Epoch 1/139\n",
      "----------\n"
     ]
    },
    {
     "ename": "KeyboardInterrupt",
     "evalue": "",
     "output_type": "error",
     "traceback": [
      "\u001b[1;31m---------------------------------------------------------------------------\u001b[0m",
      "\u001b[1;31mKeyboardInterrupt\u001b[0m                         Traceback (most recent call last)",
      "File \u001b[1;32mC:\\SIT\\3104\\Project\\Toyota_Smarthome\\Toyota_Smarthome\\pipline\\train.py:338\u001b[0m\n\u001b[0;32m    336\u001b[0m optimizer \u001b[38;5;241m=\u001b[39m optim\u001b[38;5;241m.\u001b[39mAdam(model\u001b[38;5;241m.\u001b[39mparameters(), lr\u001b[38;5;241m=\u001b[39mlr)\n\u001b[0;32m    337\u001b[0m lr_sched \u001b[38;5;241m=\u001b[39m optim\u001b[38;5;241m.\u001b[39mlr_scheduler\u001b[38;5;241m.\u001b[39mReduceLROnPlateau(optimizer, factor\u001b[38;5;241m=\u001b[39m\u001b[38;5;241m0.5\u001b[39m, patience\u001b[38;5;241m=\u001b[39m\u001b[38;5;241m8\u001b[39m, verbose\u001b[38;5;241m=\u001b[39m\u001b[38;5;28;01mTrue\u001b[39;00m)\n\u001b[1;32m--> 338\u001b[0m \u001b[43mrun\u001b[49m\u001b[43m(\u001b[49m\u001b[43m[\u001b[49m\u001b[43m(\u001b[49m\u001b[43mmodel\u001b[49m\u001b[43m,\u001b[49m\u001b[43m \u001b[49m\u001b[38;5;241;43m0\u001b[39;49m\u001b[43m,\u001b[49m\u001b[43m \u001b[49m\u001b[43mdataloaders\u001b[49m\u001b[43m,\u001b[49m\u001b[43m \u001b[49m\u001b[43moptimizer\u001b[49m\u001b[43m,\u001b[49m\u001b[43m \u001b[49m\u001b[43mlr_sched\u001b[49m\u001b[43m,\u001b[49m\u001b[43m \u001b[49m\u001b[43margs\u001b[49m\u001b[38;5;241;43m.\u001b[39;49m\u001b[43mcomp_info\u001b[49m\u001b[43m)\u001b[49m\u001b[43m]\u001b[49m\u001b[43m,\u001b[49m\u001b[43m \u001b[49m\u001b[43mcriterion\u001b[49m\u001b[43m,\u001b[49m\u001b[43m \u001b[49m\u001b[43mnum_epochs\u001b[49m\u001b[38;5;241;43m=\u001b[39;49m\u001b[38;5;28;43mint\u001b[39;49m\u001b[43m(\u001b[49m\u001b[43margs\u001b[49m\u001b[38;5;241;43m.\u001b[39;49m\u001b[43mepoch\u001b[49m\u001b[43m)\u001b[49m\u001b[43m)\u001b[49m\n",
      "File \u001b[1;32mC:\\SIT\\3104\\Project\\Toyota_Smarthome\\Toyota_Smarthome\\pipline\\train.py:162\u001b[0m, in \u001b[0;36mrun\u001b[1;34m(models, criterion, num_epochs)\u001b[0m\n\u001b[0;32m    160\u001b[0m probs \u001b[38;5;241m=\u001b[39m []\n\u001b[0;32m    161\u001b[0m \u001b[38;5;28;01mfor\u001b[39;00m model, gpu, dataloader, optimizer, sched, model_file \u001b[38;5;129;01min\u001b[39;00m models:\n\u001b[1;32m--> 162\u001b[0m     train_map, train_loss \u001b[38;5;241m=\u001b[39m \u001b[43mtrain_step\u001b[49m\u001b[43m(\u001b[49m\u001b[43mmodel\u001b[49m\u001b[43m,\u001b[49m\u001b[43m \u001b[49m\u001b[43mgpu\u001b[49m\u001b[43m,\u001b[49m\u001b[43m \u001b[49m\u001b[43moptimizer\u001b[49m\u001b[43m,\u001b[49m\u001b[43m \u001b[49m\u001b[43mdataloader\u001b[49m\u001b[43m[\u001b[49m\u001b[38;5;124;43m'\u001b[39;49m\u001b[38;5;124;43mtrain\u001b[39;49m\u001b[38;5;124;43m'\u001b[39;49m\u001b[43m]\u001b[49m\u001b[43m,\u001b[49m\u001b[43m \u001b[49m\u001b[43mepoch\u001b[49m\u001b[43m)\u001b[49m\n\u001b[0;32m    163\u001b[0m     prob_val, val_loss, val_map \u001b[38;5;241m=\u001b[39m val_step(model, gpu, dataloader[\u001b[38;5;124m'\u001b[39m\u001b[38;5;124mval\u001b[39m\u001b[38;5;124m'\u001b[39m], epoch)\n\u001b[0;32m    164\u001b[0m     probs\u001b[38;5;241m.\u001b[39mappend(prob_val)\n",
      "File \u001b[1;32mC:\\SIT\\3104\\Project\\Toyota_Smarthome\\Toyota_Smarthome\\pipline\\train.py:232\u001b[0m, in \u001b[0;36mtrain_step\u001b[1;34m(model, gpu, optimizer, dataloader, epoch)\u001b[0m\n\u001b[0;32m    229\u001b[0m optimizer\u001b[38;5;241m.\u001b[39mzero_grad()\n\u001b[0;32m    230\u001b[0m num_iter \u001b[38;5;241m+\u001b[39m\u001b[38;5;241m=\u001b[39m \u001b[38;5;241m1\u001b[39m\n\u001b[1;32m--> 232\u001b[0m outputs, loss, probs, err \u001b[38;5;241m=\u001b[39m \u001b[43mrun_network\u001b[49m\u001b[43m(\u001b[49m\u001b[43mmodel\u001b[49m\u001b[43m,\u001b[49m\u001b[43m \u001b[49m\u001b[43mdata\u001b[49m\u001b[43m,\u001b[49m\u001b[43m \u001b[49m\u001b[43mgpu\u001b[49m\u001b[43m,\u001b[49m\u001b[43m \u001b[49m\u001b[43mepoch\u001b[49m\u001b[43m)\u001b[49m\n\u001b[0;32m    233\u001b[0m apm\u001b[38;5;241m.\u001b[39madd(probs\u001b[38;5;241m.\u001b[39mdata\u001b[38;5;241m.\u001b[39mcpu()\u001b[38;5;241m.\u001b[39mnumpy()[\u001b[38;5;241m0\u001b[39m], data[\u001b[38;5;241m2\u001b[39m]\u001b[38;5;241m.\u001b[39mnumpy()[\u001b[38;5;241m0\u001b[39m])\n\u001b[0;32m    234\u001b[0m error \u001b[38;5;241m+\u001b[39m\u001b[38;5;241m=\u001b[39m err\u001b[38;5;241m.\u001b[39mdata\n",
      "File \u001b[1;32mC:\\SIT\\3104\\Project\\Toyota_Smarthome\\Toyota_Smarthome\\pipline\\train.py:189\u001b[0m, in \u001b[0;36mrun_network\u001b[1;34m(model, data, gpu, epoch, baseline)\u001b[0m\n\u001b[0;32m    187\u001b[0m inputs, mask, labels, other \u001b[38;5;241m=\u001b[39m data\n\u001b[0;32m    188\u001b[0m \u001b[38;5;66;03m# wrap them in Variable\u001b[39;00m\n\u001b[1;32m--> 189\u001b[0m inputs \u001b[38;5;241m=\u001b[39m Variable(\u001b[43minputs\u001b[49m\u001b[38;5;241;43m.\u001b[39;49m\u001b[43mcuda\u001b[49m\u001b[43m(\u001b[49m\u001b[43mgpu\u001b[49m\u001b[43m)\u001b[49m)\n\u001b[0;32m    190\u001b[0m mask \u001b[38;5;241m=\u001b[39m Variable(mask\u001b[38;5;241m.\u001b[39mcuda(gpu))\n\u001b[0;32m    191\u001b[0m labels \u001b[38;5;241m=\u001b[39m Variable(labels\u001b[38;5;241m.\u001b[39mcuda(gpu))\n",
      "\u001b[1;31mKeyboardInterrupt\u001b[0m: "
     ]
    }
   ],
   "source": [
    "%run ./train.py \\\n",
    "-dataset TSU \\\n",
    "-mode $Mode.value \\\n",
    "-split_setting CS \\\n",
    "-model PDAN \\\n",
    "-train $Train.value \\\n",
    "-num_channel 512 \\\n",
    "-lr 0.0002 \\\n",
    "-kernelsize 3 \\\n",
    "-APtype map \\\n",
    "-epoch $epoch.value \\\n",
    "-batch_size $batchsize.value \\\n",
    "-comp_info TSU_CS_RGB_PDAN \\\n",
    "-load_model ./PreTrainedModel/PDAN_TSU_RGB\\\n",
    "-rgb_root ./CuratedExtractedFeatures \\\n",
    "-featurePath ./data/smarthome_CS_32.json \\\n",
    "-outputTrain ./$output.value"
   ]
  },
  {
   "cell_type": "code",
   "execution_count": 9,
   "id": "26609d95",
   "metadata": {},
   "outputs": [
    {
     "name": "stdout",
     "output_type": "stream",
     "text": [
      "Random_SEED!!!: 0\n",
      "PDAN\n",
      "batch_size: 1\n",
      "cuda_avail True\n",
      "RGB mode ./CuratedExtractedFeatures\n"
     ]
    },
    {
     "name": "stderr",
     "output_type": "stream",
     "text": [
      "100%|███████████████████████████████████████████████████████████████████████████████| 536/536 [00:02<00:00, 206.43it/s]\n",
      "100%|███████████████████████████████████████████████████████████████████████████████| 536/536 [00:01<00:00, 366.04it/s]\n"
     ]
    }
   ],
   "source": [
    "%run ./train.py \\\n",
    "-dataset TSU \\\n",
    "-mode rgb \\\n",
    "-split_setting CS \\\n",
    "-model PDAN \\\n",
    "-train False \\\n",
    "-num_channel 512 \\\n",
    "-lr 0.0002 \\\n",
    "-kernelsize 3 \\\n",
    "-APtype map \\\n",
    "-epoch 140 \\\n",
    "-batch_size 1 \\\n",
    "-comp_info TSU_CS_RGB_PDAN \\\n",
    "-load_model './TrainedModelPDAN/model_epoch_0.0002_32' \\\n",
    "-rgb_root ./CuratedExtractedFeatures \\\n",
    "-featurePath ./data/smarthome_CS_32.json "
   ]
  },
  {
   "cell_type": "markdown",
   "id": "254410f6",
   "metadata": {},
   "source": [
    "Video Inference for TSU\n",
    "\n",
    "Need to pick 1 video by 1 video\n",
    "\n",
    "User input needed\n",
    "- VideoInputTest\n",
    "- Video_path (Path to where each video is stored)\n",
    "- filepath "
   ]
  },
  {
   "cell_type": "code",
   "execution_count": null,
   "id": "e2f5709f",
   "metadata": {},
   "outputs": [],
   "source": [
    "fileList = os. listdir()\n",
    "filelist = filter(os.path.isdir, os.listdir(os.getcwd()))\n",
    "\n",
    "fileList = [ name for name in os.listdir() if os.path.isdir(os.path.join(name)) ]\n",
    "videoInputTestOutput = widgets.Dropdown(\n",
    "    options=fileList,\n",
    "    value=fileList[0],\n",
    "    description='Video Input Test:',\n",
    "    disabled=False,\n",
    ")\n",
    "display(videoInputTestOutput)"
   ]
  },
  {
   "cell_type": "code",
   "execution_count": null,
   "id": "41a5b7cb",
   "metadata": {},
   "outputs": [],
   "source": [
    "import find_fileName\n",
    "inputTestField = find_fileName.gui_fname(\"PUT MP4 LOCATION HERE\")\n",
    "print(inputTestField)"
   ]
  },
  {
   "cell_type": "code",
   "execution_count": null,
   "id": "ba40a4d5",
   "metadata": {},
   "outputs": [],
   "source": [
    "import find_directory\n",
    "filePathInput = find_directory.gui_fdir()\n",
    "print(filePathInput)"
   ]
  },
  {
   "cell_type": "code",
   "execution_count": 2,
   "id": "34fc35e5",
   "metadata": {},
   "outputs": [
    {
     "name": "stdout",
     "output_type": "stream",
     "text": [
      "Random_SEED!!!: 0\n",
      "PDAN\n",
      "batch_size: 2\n",
      "cuda_avail True\n",
      "File name:  P02T01C06\n",
      "FilePath:  ../../../../FeatureExtraction/video_features/data/P02T01C06.mp4\n",
      "Pre-trained Model:  PDAN\n",
      "Model is Loaded ./PreTrainedModel/PDAN_TSU_RGB\n",
      "RGB mode ./CuratedExtractedFeatures\n"
     ]
    },
    {
     "name": "stderr",
     "output_type": "stream",
     "text": [
      "100%|███████████████████████████████████████████████████████████████████████████████| 536/536 [00:02<00:00, 198.33it/s]\n",
      "100%|███████████████████████████████████████████████████████████████████████████████| 536/536 [00:01<00:00, 352.32it/s]\n"
     ]
    },
    {
     "name": "stdout",
     "output_type": "stream",
     "text": [
      "you are processing PDAN\n",
      "loaded ./PreTrainedModel/PDAN_TSU_RGB\n",
      "pytorch_total_params 5804083\n",
      "num_channel: 512 input_channnel: 1024 num_classes: 51\n",
      "0.0002\n",
      "val-map: tensor(9.5973)\n",
      "tensor([3.2199e+00, 1.0785e+01, 1.2328e+01, 9.1447e+00, 2.1682e+00, 5.7915e+00,\n",
      "        9.3170e-01, 8.2743e+00, 1.8958e+00, 2.7897e+00, 2.1160e+00, 5.1676e-01,\n",
      "        1.8740e-01, 4.4605e+00, 3.7877e+00, 1.5258e+00, 1.1797e+00, 1.9205e+01,\n",
      "        1.0077e+00, 4.0459e+01, 1.3885e+00, 2.1411e+01, 4.1378e+01, 2.1046e+00,\n",
      "        2.0134e-01, 4.9950e+00, 1.7670e+01, 6.3112e+00, 5.0593e+00, 1.1576e+00,\n",
      "        7.1838e-01, 1.3850e-02, 8.1936e+00, 5.9331e-01, 2.5791e+01, 7.0868e+01,\n",
      "        8.1375e+00, 4.1458e+00, 1.3837e+01, 2.4140e+00, 2.0800e+01, 4.7617e+00,\n",
      "        1.5222e+01, 4.8041e+01, 1.9522e-01, 6.2876e+00, 5.6130e+00, 1.3672e+01,\n",
      "        6.2554e+00, 3.7349e-01, 7.5355e-02])\n",
      "video is:  ../../../../FeatureExtraction/video_features/data/P02T01C06.mp4\n",
      "cap is:  <VideoCapture 000001F94A0D1B50>\n",
      "Len 277\n",
      "No:  17769.0\n",
      "numberOfFramePerCaption:  65\n"
     ]
    },
    {
     "name": "stderr",
     "output_type": "stream",
     "text": [
      "Generating video:.... 17769: : 17770it [04:32, 65.24it/s]                                                              "
     ]
    },
    {
     "name": "stdout",
     "output_type": "stream",
     "text": [
      "Video Inference Processing complete!\n"
     ]
    },
    {
     "name": "stderr",
     "output_type": "stream",
     "text": [
      "\n"
     ]
    }
   ],
   "source": [
    "%run inference.py \\\n",
    "-dataset TSU \\\n",
    "-mode rgb \\\n",
    "-split_setting CS \\\n",
    "-model PDAN \\\n",
    "-train False \\\n",
    "-num_channel 512 \\\n",
    "-lr 0.0002 \\\n",
    "-kernelsize 3 \\\n",
    "-APtype map \\\n",
    "-epoch 5 \\\n",
    "-batch_size 2 \\\n",
    "-comp_info TSU_CS_RGB_PDAN \\\n",
    "-load_model ./PreTrainedModel/PDAN_TSU_RGB \\\n",
    "-rgb_root ./data/smarthome_CS_51.json \\\n",
    "-featurePath ./CuratedExtractedFeatures \\\n",
    "-VideoInputTest $inputTestField \\\n",
    "-video_path ../../../../FeatureExtraction/video_features/data/P02T01C06.mp4 \\\n",
    "-annotations ./Annotation \\\n",
    "-filepath $filePathInput"
   ]
  },
  {
   "cell_type": "code",
   "execution_count": null,
   "id": "3db3fc1f",
   "metadata": {},
   "outputs": [],
   "source": []
  }
 ],
 "metadata": {
  "kernelspec": {
   "display_name": "Python 3 (ipykernel)",
   "language": "python",
   "name": "python3"
  },
  "language_info": {
   "codemirror_mode": {
    "name": "ipython",
    "version": 3
   },
   "file_extension": ".py",
   "mimetype": "text/x-python",
   "name": "python",
   "nbconvert_exporter": "python",
   "pygments_lexer": "ipython3",
   "version": "3.8.13"
  }
 },
 "nbformat": 4,
 "nbformat_minor": 5
}
