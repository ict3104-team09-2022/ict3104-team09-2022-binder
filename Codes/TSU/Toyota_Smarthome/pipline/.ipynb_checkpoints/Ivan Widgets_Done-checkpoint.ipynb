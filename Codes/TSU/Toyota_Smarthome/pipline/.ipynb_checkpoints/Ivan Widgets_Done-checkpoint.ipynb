{
 "cells": [
  {
   "cell_type": "code",
   "execution_count": 1,
   "id": "0eaee4e1",
   "metadata": {},
   "outputs": [],
   "source": [
    "import ipywidgets as widgets\n"
   ]
  },
  {
   "cell_type": "code",
   "execution_count": 2,
   "id": "35cdda4d",
   "metadata": {},
   "outputs": [
    {
     "data": {
      "application/vnd.jupyter.widget-view+json": {
       "model_id": "e908413a31474d3f8ad5a43a5a0bbae3",
       "version_major": 2,
       "version_minor": 0
      },
      "text/plain": [
       "IntSlider(value=100, continuous_update=False, description='Test:', max=200, min=100, step=10)"
      ]
     },
     "metadata": {},
     "output_type": "display_data"
    }
   ],
   "source": [
    "epoch = widgets.IntSlider(\n",
    "    value=100,\n",
    "    min=100,\n",
    "    max=200,\n",
    "    step=10,\n",
    "    description='Test:',\n",
    "    disabled=False,\n",
    "    continuous_update=False,\n",
    "    orientation='horizontal',\n",
    "    readout=True,\n",
    "    readout_format='d'\n",
    ")\n",
    "display(epoch)"
   ]
  },
  {
   "cell_type": "code",
   "execution_count": 11,
   "id": "30e26e55",
   "metadata": {},
   "outputs": [
    {
     "name": "stdout",
     "output_type": "stream",
     "text": [
      "100\n"
     ]
    }
   ],
   "source": [
    "print(epoch.value)"
   ]
  },
  {
   "cell_type": "code",
   "execution_count": 3,
   "id": "499ef553",
   "metadata": {},
   "outputs": [
    {
     "data": {
      "application/vnd.jupyter.widget-view+json": {
       "model_id": "6965947772b949fa957b0bc9760d0dce",
       "version_major": 2,
       "version_minor": 0
      },
      "text/plain": [
       "IntSlider(value=1, continuous_update=False, description='Test:', max=10, min=1)"
      ]
     },
     "metadata": {},
     "output_type": "display_data"
    }
   ],
   "source": [
    "batchsize = widgets.IntSlider(\n",
    "    value=1,\n",
    "    min=1,\n",
    "    max=10,\n",
    "    step=1,\n",
    "    description='Test:',\n",
    "    disabled=False,\n",
    "    continuous_update=False,\n",
    "    orientation='horizontal',\n",
    "    readout=True,\n",
    "    readout_format='d'\n",
    ")\n",
    "display(batchsize)"
   ]
  },
  {
   "cell_type": "code",
   "execution_count": null,
   "id": "e501ad2f",
   "metadata": {},
   "outputs": [],
   "source": [
    "print(batchsize.value)"
   ]
  },
  {
   "cell_type": "code",
   "execution_count": 4,
   "id": "50fea17d",
   "metadata": {},
   "outputs": [
    {
     "data": {
      "application/vnd.jupyter.widget-view+json": {
       "model_id": "0601555bfc9a4fc9b544643a231d507e",
       "version_major": 2,
       "version_minor": 0
      },
      "text/plain": [
       "Dropdown(description='Train:', options=('True', 'False'), value='True')"
      ]
     },
     "metadata": {},
     "output_type": "display_data"
    }
   ],
   "source": [
    "Train = widgets.Dropdown(\n",
    "    options=['True', 'False'],\n",
    "    value='True',\n",
    "    description='Train:',\n",
    "    disabled=False,\n",
    ")\n",
    "display(Train)"
   ]
  },
  {
   "cell_type": "code",
   "execution_count": 18,
   "id": "2de81b60",
   "metadata": {},
   "outputs": [
    {
     "name": "stdout",
     "output_type": "stream",
     "text": [
      "True\n"
     ]
    }
   ],
   "source": [
    "print(Train.value)"
   ]
  },
  {
   "cell_type": "code",
   "execution_count": 5,
   "id": "b5cb6d3e",
   "metadata": {},
   "outputs": [
    {
     "data": {
      "application/vnd.jupyter.widget-view+json": {
       "model_id": "005abbc1e4684cc2acccd7953f0ef2d6",
       "version_major": 2,
       "version_minor": 0
      },
      "text/plain": [
       "Dropdown(description='Mode:', options=('RGB', 'FLOW', 'FLOW+RGB', 'RBG+FLOW'), value='RGB')"
      ]
     },
     "metadata": {},
     "output_type": "display_data"
    }
   ],
   "source": [
    "Mode = widgets.Dropdown(\n",
    "    options=['RGB', 'FLOW', 'FLOW+RGB', 'RBG+FLOW'],\n",
    "    value='RGB',\n",
    "    description='Mode:',\n",
    "    disabled=False,\n",
    ")\n",
    "display(Mode)"
   ]
  },
  {
   "cell_type": "code",
   "execution_count": 23,
   "id": "b774470f",
   "metadata": {},
   "outputs": [
    {
     "name": "stdout",
     "output_type": "stream",
     "text": [
      "FLOW+RGB\n"
     ]
    }
   ],
   "source": [
    "print(Mode.value)"
   ]
  },
  {
   "cell_type": "code",
   "execution_count": 6,
   "id": "7c5e4408",
   "metadata": {},
   "outputs": [
    {
     "data": {
      "application/vnd.jupyter.widget-view+json": {
       "model_id": "e32669da63ff436f9f3940d9d7b419a7",
       "version_major": 2,
       "version_minor": 0
      },
      "text/plain": [
       "Dropdown(description='Mode:', options=('.ipynb_checkpoints', 'apmeter.py', 'CuratedExtractedFeatures', 'data',…"
      ]
     },
     "metadata": {},
     "output_type": "display_data"
    }
   ],
   "source": [
    "import os \n",
    "fileList = os. listdir()\n",
    "output = widgets.Dropdown(\n",
    "    options=fileList,\n",
    "    value=fileList[0],\n",
    "    description='Mode:',\n",
    "    disabled=False,\n",
    ")\n",
    "display(output)"
   ]
  },
  {
   "cell_type": "code",
   "execution_count": null,
   "id": "61bae0f5",
   "metadata": {},
   "outputs": [],
   "source": [
    "%run ./train.py \\\n",
    "-dataset TSU \\\n",
    "-mode $Mode \\\n",
    "-split_setting CS \\\n",
    "-model PDAN \\\n",
    "-train $Train \\\n",
    "-num_channel 512 \\\n",
    "-lr 0.0002 \\\n",
    "-kernelsize 3 \\\n",
    "-APtype map \\\n",
    "-epoch $epoch \\\n",
    "-batch_size $batchsize \\\n",
    "-comp_info TSU_CS_RGB_PDAN \\\n",
    "-load_model ./PreTrainedModel/PDAN_TSU_RGB\\\n",
    "-rgb_root ./CuratedExtractedFeatures \\\n",
    "-featurePath ./data/smarthome_CS_32.json \\\n",
    "-outputTrain ./$output"
   ]
  }
 ],
 "metadata": {
  "kernelspec": {
   "display_name": "Python 3 (ipykernel)",
   "language": "python",
   "name": "python3"
  },
  "language_info": {
   "codemirror_mode": {
    "name": "ipython",
    "version": 3
   },
   "file_extension": ".py",
   "mimetype": "text/x-python",
   "name": "python",
   "nbconvert_exporter": "python",
   "pygments_lexer": "ipython3",
   "version": "3.8.13"
  }
 },
 "nbformat": 4,
 "nbformat_minor": 5
}
