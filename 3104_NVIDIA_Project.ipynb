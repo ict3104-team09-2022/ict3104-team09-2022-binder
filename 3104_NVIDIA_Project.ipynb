{
 "cells": [
  {
   "cell_type": "code",
   "execution_count": 2,
   "id": "33ebf9c1-ded3-4a1c-a82e-980671471239",
   "metadata": {},
   "outputs": [
    {
     "name": "stdout",
     "output_type": "stream",
     "text": [
      "Collecting watermark\n",
      "  Downloading watermark-2.3.1-py2.py3-none-any.whl (7.2 kB)\n",
      "Requirement already satisfied: ipython in c:\\users\\65866\\anaconda3\\lib\\site-packages (from watermark) (7.22.0)\n",
      "Requirement already satisfied: colorama in c:\\users\\65866\\anaconda3\\lib\\site-packages (from ipython->watermark) (0.4.4)\n",
      "Requirement already satisfied: pickleshare in c:\\users\\65866\\anaconda3\\lib\\site-packages (from ipython->watermark) (0.7.5)\n",
      "Requirement already satisfied: traitlets>=4.2 in c:\\users\\65866\\anaconda3\\lib\\site-packages (from ipython->watermark) (5.0.5)\n",
      "Requirement already satisfied: setuptools>=18.5 in c:\\users\\65866\\anaconda3\\lib\\site-packages (from ipython->watermark) (52.0.0.post20210125)\n",
      "Requirement already satisfied: pygments in c:\\users\\65866\\anaconda3\\lib\\site-packages (from ipython->watermark) (2.8.1)\n",
      "Requirement already satisfied: jedi>=0.16 in c:\\users\\65866\\anaconda3\\lib\\site-packages (from ipython->watermark) (0.17.2)\n",
      "Requirement already satisfied: backcall in c:\\users\\65866\\anaconda3\\lib\\site-packages (from ipython->watermark) (0.2.0)\n",
      "Requirement already satisfied: decorator in c:\\users\\65866\\anaconda3\\lib\\site-packages (from ipython->watermark) (5.0.6)\n",
      "Requirement already satisfied: prompt-toolkit!=3.0.0,!=3.0.1,<3.1.0,>=2.0.0 in c:\\users\\65866\\anaconda3\\lib\\site-packages (from ipython->watermark) (3.0.17)\n",
      "Requirement already satisfied: parso<0.8.0,>=0.7.0 in c:\\users\\65866\\anaconda3\\lib\\site-packages (from jedi>=0.16->ipython->watermark) (0.7.0)\n",
      "Requirement already satisfied: wcwidth in c:\\users\\65866\\anaconda3\\lib\\site-packages (from prompt-toolkit!=3.0.0,!=3.0.1,<3.1.0,>=2.0.0->ipython->watermark) (0.2.5)\n",
      "Requirement already satisfied: ipython-genutils in c:\\users\\65866\\anaconda3\\lib\\site-packages (from traitlets>=4.2->ipython->watermark) (0.2.0)\n",
      "Installing collected packages: watermark\n",
      "Successfully installed watermark-2.3.1\n",
      "Note: you may need to restart the kernel to use updated packages.\n"
     ]
    }
   ],
   "source": [
    "pip install watermark"
   ]
  },
  {
   "cell_type": "code",
   "execution_count": 4,
   "id": "32c62095-048b-49b3-9b19-8f7811406131",
   "metadata": {},
   "outputs": [],
   "source": [
    "%load_ext watermark"
   ]
  },
  {
   "cell_type": "code",
   "execution_count": 7,
   "id": "c62c9caf-92f4-4c8d-8763-38b4f04486b1",
   "metadata": {},
   "outputs": [
    {
     "name": "stdout",
     "output_type": "stream",
     "text": [
      "Python implementation: CPython\n",
      "Python version       : 3.8.8\n",
      "IPython version      : 7.22.0\n",
      "\n",
      "pandas: 1.2.4\n",
      "\n",
      "Compiler    : MSC v.1916 64 bit (AMD64)\n",
      "OS          : Windows\n",
      "Release     : 10\n",
      "Machine     : AMD64\n",
      "Processor   : AMD64 Family 23 Model 113 Stepping 0, AuthenticAMD\n",
      "CPU cores   : 16\n",
      "Architecture: 64bit\n",
      "\n"
     ]
    }
   ],
   "source": [
    "%watermark -v -m -p pandas"
   ]
  },
  {
   "cell_type": "code",
   "execution_count": 5,
   "id": "96ff616a-08e4-40f9-a69d-c16328ab60fd",
   "metadata": {},
   "outputs": [
    {
     "name": "stdout",
     "output_type": "stream",
     "text": [
      "Last updated: Tue Sep 20 2022 04:34:12Malay Peninsula Standard Time\n",
      "\n"
     ]
    }
   ],
   "source": [
    "%watermark -u -n -t -z"
   ]
  },
  {
   "cell_type": "markdown",
   "id": "9e084b8c",
   "metadata": {},
   "source": [
    "Asif start here"
   ]
  },
  {
   "cell_type": "code",
   "execution_count": null,
   "id": "cfa3b128",
   "metadata": {},
   "outputs": [],
   "source": [
    "#US9: As a Nvidia Engineer, I want to see a list of video files from the data folder through a dropdown menu , so that I can easily select video input to load from the folder.\n",
    "import os \n",
    "import ipywidgets as widgets\n",
    "\n",
    "fileList = os.listdir()\n",
    "print(fileList)"
   ]
  },
  {
   "cell_type": "code",
   "execution_count": null,
   "id": "84e7fb62-c1fe-41a3-ac5b-4897ebd5f858",
   "metadata": {},
   "outputs": [],
   "source": [
    "a = widgets.Dropdown(options=fileList, value=fileList[0])\n",
    "display(a)"
   ]
  },
  {
   "cell_type": "code",
   "execution_count": null,
   "id": "7f5944af",
   "metadata": {},
   "outputs": [],
   "source": [
    "#US11: As a Nvidia Engineer, I want to load of selected video file from the dropdown menu, so that i can watch the video playback of selected video file.\n",
    "from IPython.display import Video\n",
    "\n",
    "Video(a.value, embed=True)"
   ]
  },
  {
   "cell_type": "code",
   "execution_count": null,
   "id": "750a98d7",
   "metadata": {},
   "outputs": [],
   "source": [
    "#US19: As a Nvidia Engineer, I want to store input files according to input type in the subfolders in the data folder, so that i can better organize and view them in the future.\n",
    "import pandas as pd\n",
    "def saveLocal(dataset, foldername):\n",
    "  path = os.getcwd() +\"/DataFolder\"\n",
    "  folderpath = path + \"/\"+foldername+\"/\"\n",
    "  print(folderpath)\n",
    "  if not os.path.exists(folderpath):\n",
    "    os.makedirs(path)\n",
    "  dataset.to_csv(folderpath+'Example.csv',index=False)\n"
   ]
  }
 ],
 "metadata": {
  "kernelspec": {
   "display_name": "Python 3.6.8 64-bit",
   "language": "python",
   "name": "python3"
  },
  "language_info": {
   "codemirror_mode": {
    "name": "ipython",
    "version": 3
   },
   "file_extension": ".py",
   "mimetype": "text/x-python",
   "name": "python",
   "nbconvert_exporter": "python",
   "pygments_lexer": "ipython3",
   "version": "3.6.8"
  },
  "vscode": {
   "interpreter": {
    "hash": "50b8663cec7c3ec7674fc2c2f3ad8e4d24a5625735c63c116a1a501a0ee4ecd1"
   }
  }
 },
 "nbformat": 4,
 "nbformat_minor": 5
}
